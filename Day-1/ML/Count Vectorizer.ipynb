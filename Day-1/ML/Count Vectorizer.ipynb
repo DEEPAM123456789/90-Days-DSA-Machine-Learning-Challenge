{
 "cells": [
  {
   "cell_type": "markdown",
   "id": "56f2e1c0-03ea-4ae9-b406-43e82b3d175c",
   "metadata": {},
   "source": [
    "## Vector Similarity \n",
    "\n",
    "#### This topic is not related to the below notebook code, but just for theory purpose.\n",
    "\n",
    "1.  ***L2 Norm***\n",
    "* Also called Euclidean norm.\n",
    "\n",
    "* Measures the length (magnitude) of a vector.\n",
    "\n",
    "* Formula:\n",
    "        |v| = sqrt(v1^2 + v2^2 +....vn^2)\n",
    "    \n",
    "* Example:\n",
    "    * for v = [3,4], L2 norm = 5\n",
    "    * therefore v = [3/5, 4/5] = [0.6, 0.8] -> L2 normalization is applied here.\n",
    "\n",
    "* *Use case:* Normalize vectors so their length = 1.\n",
    "\n",
    "2. ***Cosine Similarity***\n",
    "* Measures the cosine of the angle between two vectors.\n",
    "\n",
    "* Captures directional similarity, ignoring magnitude.\n",
    "\n",
    "* Formula:\n",
    "    cos(theta) = A.B / |A|.|B|\n",
    " \n",
    "* Range:\n",
    "\n",
    "    * +1 = same direction (most similar)\n",
    "\n",
    "    * 0 = orthogonal (no similarity)\n",
    "\n",
    "    * -1 = opposite direction\n",
    "\n",
    "3. ***Cosine Distance***\n",
    "* Measures how different two vectors are in direction.\n",
    "\n",
    "* Formula:\n",
    "    Cosine Distance = 1 - Cosine Similarity\n",
    "\n",
    "* Range:\n",
    "\n",
    "    * 0 = same direction\n",
    "\n",
    "    * 1 = orthogonal\n",
    "\n",
    "    * 2 = opposite\n",
    " \n",
    "4. ***Euclidean Distance***\n",
    "* Measures straight-line distance between vector endpoints.\n",
    "\n",
    "* Sensitive to both length and direction.\n",
    " \n",
    "* Example:\n",
    "\n",
    "For A = [3,0], B = [0,4], distance = 5.\n",
    "\n",
    "5. When Euclidean Distance is Related to Cosine Distance\n",
    "If vectors are L2-normalized (length=1):\n",
    "```python\n",
    "    |A - B| = 2(1 - cos(theta))\n",
    "```\n",
    "\n",
    "* This means:\n",
    "\n",
    "    * Euclidean distance directly corresponds to cosine similarity.\n",
    "\n",
    "    * In this case, they encode the same information about angle.\n",
    "\n",
    "* If vectors are not normalized:\n",
    "\n",
    "    * Euclidean distance increases with vector length.\n",
    "\n",
    "    * Cosine similarity stays unchanged (still based on angle).\n",
    " \n",
    "* Important Note:\n",
    "\n",
    "* Even when vectors are L2-normalized:\n",
    "\n",
    "    * Euclidean distance and cosine distance are not equal.\n",
    "\n",
    "    * They are monotonically related via this formula:\n",
    " \n",
    "```python\n",
    "    |A - B| = 2(1 - cos(theta))\n",
    "```\n",
    " \n",
    "    * So they will produce the same similarity ranking but not the same numeric values."
   ]
  },
  {
   "cell_type": "code",
   "execution_count": 1,
   "id": "e97c875c-681f-4cee-bcef-a1be86af70d2",
   "metadata": {},
   "outputs": [],
   "source": [
    "import numpy as ap\n",
    "import pandas as pd\n",
    "from sklearn.feature_extraction.text import CountVectorizer\n",
    "from sklearn.naive_bayes import MultinomialNB\n",
    "from sklearn.model_selection import train_test_split"
   ]
  },
  {
   "cell_type": "code",
   "execution_count": 2,
   "id": "d327dd7b-87db-474c-8554-038c8835b029",
   "metadata": {},
   "outputs": [],
   "source": [
    "import nltk\n",
    "from nltk import word_tokenize\n",
    "from nltk.stem import WordNetLemmatizer, PorterStemmer\n",
    "from nltk.corpus import wordnet"
   ]
  },
  {
   "cell_type": "code",
   "execution_count": 5,
   "id": "9a52a725-7c9d-4f66-8fce-92246377a097",
   "metadata": {},
   "outputs": [
    {
     "name": "stderr",
     "output_type": "stream",
     "text": [
      "[nltk_data] Downloading package wordnet to C:\\Users\\Deepam\n",
      "[nltk_data]     Shah\\AppData\\Roaming\\nltk_data...\n",
      "[nltk_data]   Package wordnet is already up-to-date!\n",
      "[nltk_data] Downloading package punkt to C:\\Users\\Deepam\n",
      "[nltk_data]     Shah\\AppData\\Roaming\\nltk_data...\n",
      "[nltk_data]   Package punkt is already up-to-date!\n",
      "[nltk_data] Downloading package averaged_perceptron_tagger_eng to\n",
      "[nltk_data]     C:\\Users\\Deepam Shah\\AppData\\Roaming\\nltk_data...\n",
      "[nltk_data]   Package averaged_perceptron_tagger_eng is already up-to-\n",
      "[nltk_data]       date!\n"
     ]
    },
    {
     "data": {
      "text/plain": [
       "True"
      ]
     },
     "execution_count": 5,
     "metadata": {},
     "output_type": "execute_result"
    }
   ],
   "source": [
    "nltk.download(\"wordnet\")\n",
    "nltk.download(\"punkt\")\n",
    "nltk.download('averaged_perceptron_tagger_eng')"
   ]
  },
  {
   "cell_type": "code",
   "execution_count": 15,
   "id": "e1f5d3fb-fed6-477e-965f-71b360d00235",
   "metadata": {},
   "outputs": [],
   "source": [
    "import pandas as pd\n",
    "import pathlib\n",
    "\n",
    "root_dir = pathlib.Path(r\"D:\\Deepam\\bbc\")\n",
    "\n",
    "data = []\n",
    "\n",
    "for category_dir in root_dir.iterdir():\n",
    "    if category_dir.is_dir():\n",
    "        label = category_dir.name\n",
    "\n",
    "        for file_path in category_dir.glob(\"*.txt\"):\n",
    "            with open(file_path, \"r\", encoding=\"latin-1\") as f:\n",
    "                text = f.read()\n",
    "                data.append({\"text\": text, \"labels\": label})\n",
    "\n",
    "df = pd.DataFrame(data)"
   ]
  },
  {
   "cell_type": "code",
   "execution_count": 16,
   "id": "3e6bcb20-c19d-430d-8a42-ecb5e7bcbab7",
   "metadata": {},
   "outputs": [
    {
     "name": "stdout",
     "output_type": "stream",
     "text": [
      "                                                text    labels\n",
      "0  Ad sales boost Time Warner profit\\n\\nQuarterly...  business\n",
      "1  Dollar gains on Greenspan speech\\n\\nThe dollar...  business\n",
      "2  Yukos unit buyer faces loan claim\\n\\nThe owner...  business\n",
      "3  High fuel prices hit BA's profits\\n\\nBritish A...  business\n",
      "4  Pernod takeover talk lifts Domecq\\n\\nShares in...  business\n"
     ]
    }
   ],
   "source": [
    "print(df.head())"
   ]
  },
  {
   "cell_type": "code",
   "execution_count": 17,
   "id": "8e1d3ac1-d872-49a2-a7c2-a9e3f73b7ef0",
   "metadata": {},
   "outputs": [],
   "source": [
    "inputs = df['text']\n",
    "labels = df['labels']"
   ]
  },
  {
   "cell_type": "code",
   "execution_count": 20,
   "id": "98d4658a-6854-4d13-a085-6119f0ef68fe",
   "metadata": {},
   "outputs": [
    {
     "data": {
      "image/png": "[encoded data removed]",
      "text/plain": [
       "<Figure size 1000x500 with 1 Axes>"
      ]
     },
     "metadata": {},
     "output_type": "display_data"
    }
   ],
   "source": [
    "labels.hist(figsize=(10,5)); # to check if we have imbalanced dataset"
   ]
  },
  {
   "cell_type": "code",
   "execution_count": 21,
   "id": "2284ac93-abc1-4d21-8779-6ae0fc438e83",
   "metadata": {},
   "outputs": [],
   "source": [
    "inputs_train, inputs_test, Ytrain, Ytest = train_test_split(inputs, labels, random_state=123)"
   ]
  },
  {
   "cell_type": "code",
   "execution_count": 26,
   "id": "ad265bd5-15fd-4575-81a0-b49bc5410c27",
   "metadata": {},
   "outputs": [],
   "source": [
    "vectorizer = CountVectorizer()"
   ]
  },
  {
   "cell_type": "markdown",
   "id": "9171237b-b310-461b-8fa1-0a56adce9e6b",
   "metadata": {},
   "source": [
    "### What is CountVectorizer?\n",
    "* CountVectorizer is a tool from scikit-learn that:\n",
    "* Turns text into numbers by counting how many times each word appears."
   ]
  },
  {
   "cell_type": "code",
   "execution_count": 25,
   "id": "eab6cfce-4788-46e6-a892-a6ded1f447a9",
   "metadata": {},
   "outputs": [],
   "source": [
    "Xtrain = vectorizer.fit_transform(inputs_train)\n",
    "Xtest = vectorizer.transform(inputs_test)"
   ]
  },
  {
   "cell_type": "code",
   "execution_count": 46,
   "id": "006ea2dc-ef40-4c75-8766-4e780da8a22a",
   "metadata": {},
   "outputs": [
    {
     "data": {
      "text/plain": [
       "(1668, 52144)"
      ]
     },
     "execution_count": 46,
     "metadata": {},
     "output_type": "execute_result"
    }
   ],
   "source": [
    "Xtrain.shape"
   ]
  },
  {
   "cell_type": "code",
   "execution_count": 24,
   "id": "e12da229-81c9-43be-bb35-1c2e2700cde5",
   "metadata": {},
   "outputs": [
    {
     "data": {
      "text/plain": [
       "<Compressed Sparse Row sparse matrix of dtype 'int64'\n",
       "\twith 337411 stored elements and shape (1668, 26287)>"
      ]
     },
     "execution_count": 24,
     "metadata": {},
     "output_type": "execute_result"
    }
   ],
   "source": [
    "Xtrain"
   ]
  },
  {
   "cell_type": "code",
   "execution_count": 28,
   "id": "c7a106f9-3167-481a-8a89-da2d8d414d0e",
   "metadata": {},
   "outputs": [
    {
     "data": {
      "text/plain": [
       "337411"
      ]
     },
     "execution_count": 28,
     "metadata": {},
     "output_type": "execute_result"
    }
   ],
   "source": [
    "(Xtrain != 0).sum().item()"
   ]
  },
  {
   "cell_type": "code",
   "execution_count": 33,
   "id": "eb53b846-8d14-47fe-9b4d-f592e32a412b",
   "metadata": {},
   "outputs": [
    {
     "data": {
      "text/plain": [
       "0.007695239935415004"
      ]
     },
     "execution_count": 33,
     "metadata": {},
     "output_type": "execute_result"
    }
   ],
   "source": [
    "# What percentage of values are non-zero?\n",
    "((Xtrain != 0).sum().item()/ np.prod(Xtrain.shape)).item()"
   ]
  },
  {
   "cell_type": "code",
   "execution_count": 35,
   "id": "4851905f-dde2-4359-892d-a8ed92d0b645",
   "metadata": {},
   "outputs": [
    {
     "name": "stdout",
     "output_type": "stream",
     "text": [
      "train score: 0.9922062350119905\n",
      "test score: 0.9712746858168761\n"
     ]
    }
   ],
   "source": [
    "model = MultinomialNB()\n",
    "model.fit(Xtrain, Ytrain)\n",
    "print(\"train score:\", model.score(Xtrain, Ytrain))\n",
    "print(\"test score:\", model.score(Xtest, Ytest))"
   ]
  },
  {
   "cell_type": "code",
   "execution_count": 53,
   "id": "7e9d38d4-7b43-434a-8adf-e5bcdfa4fd7c",
   "metadata": {},
   "outputs": [
    {
     "data": {
      "text/plain": [
       "(1668, 25995)"
      ]
     },
     "execution_count": 53,
     "metadata": {},
     "output_type": "execute_result"
    }
   ],
   "source": [
    "# Stopwords are words in a language that are very common but carry little meaning\n",
    "# on their own.\n",
    "# \"the\", \"is\", \"in\", \"a\", \"an\", \"on\", \"and\", \"of\", \"for\", \"to\", \"with\", \"that\"\n",
    "\n",
    "# with stopwords\n",
    "vectorizer = CountVectorizer(stop_words='english')\n",
    "Xtrain = vectorizer.fit_transform(inputs_train)\n",
    "Xtest = vectorizer.transform(inputs_test)\n",
    "Xtrain.shape"
   ]
  },
  {
   "cell_type": "code",
   "execution_count": 54,
   "id": "eab365f9-023e-4119-a678-04e18a8bc319",
   "metadata": {},
   "outputs": [
    {
     "name": "stdout",
     "output_type": "stream",
     "text": [
      "train score:  0.9928057553956835\n",
      "test score:  0.9766606822262118\n"
     ]
    }
   ],
   "source": [
    "model = MultinomialNB()\n",
    "model.fit(Xtrain, Ytrain)\n",
    "print(\"train score: \", model.score(Xtrain, Ytrain))\n",
    "print(\"test score: \", model.score(Xtest, Ytest))"
   ]
  },
  {
   "cell_type": "code",
   "execution_count": 38,
   "id": "9b84fd09-96c2-4ead-a1e5-3abb004a92c8",
   "metadata": {},
   "outputs": [],
   "source": [
    "def get_wordnet_pos(treebank_tag):\n",
    "    if treebank_tag.startswith('J'):\n",
    "        return wordnet.ADJ\n",
    "    elif treebank_tag.startswith('V'):\n",
    "        return wordnet.VERB\n",
    "    elif treebank_tag.startswith('N'):\n",
    "        return wordnet.NOUN\n",
    "    elif treebank_tag.startswith('R'):\n",
    "        return wordnet.ADV\n",
    "    else:\n",
    "        return wordnet.NOUN"
   ]
  },
  {
   "cell_type": "code",
   "execution_count": 39,
   "id": "8811a632-f562-4155-9b72-906dfffd9810",
   "metadata": {},
   "outputs": [],
   "source": [
    "class LemmaTokenizer:\n",
    "    def __init__ (self):\n",
    "        self.wnl = WordNetLemmatizer()\n",
    "    def __call__(self, doc):\n",
    "        tokens = word_tokenize(doc)\n",
    "        words_and_tags = nltk.pos_tag(tokens) # This returns a list containing tuples, and each tuple contains eachword in the document, along with its corresponding tag. \n",
    "        return [self.wnl.lemmatize(word, pos=get_wordnet_pos(tag)) \\\n",
    "                for word, tag in words_and_tags]"
   ]
  },
  {
   "cell_type": "code",
   "execution_count": 47,
   "id": "d5c44811-8f9d-44df-b5de-4d3580ba3d86",
   "metadata": {},
   "outputs": [
    {
     "name": "stderr",
     "output_type": "stream",
     "text": [
      "C:\\Users\\Deepam Shah\\AppData\\Local\\Programs\\Python\\Python312\\Lib\\site-packages\\sklearn\\feature_extraction\\text.py:517: UserWarning: The parameter 'token_pattern' will not be used since 'tokenizer' is not None'\n",
      "  warnings.warn(\n"
     ]
    },
    {
     "data": {
      "text/plain": [
       "(1668, 25894)"
      ]
     },
     "execution_count": 47,
     "metadata": {},
     "output_type": "execute_result"
    }
   ],
   "source": [
    "# with lemmatization\n",
    "vectorizer = CountVectorizer(tokenizer=LemmaTokenizer())\n",
    "Xtrain = vectorizer.fit_transform(inputs_train)\n",
    "Xtest = vectorizer.transform(inputs_test)\n",
    "Xtrain.shape"
   ]
  },
  {
   "cell_type": "code",
   "execution_count": 48,
   "id": "4c0b52cf-ff49-48cb-a1de-a1b277b4c5fb",
   "metadata": {},
   "outputs": [
    {
     "name": "stdout",
     "output_type": "stream",
     "text": [
      "train score:  0.9922062350119905\n",
      "test score:  0.9676840215439856\n"
     ]
    }
   ],
   "source": [
    "model = MultinomialNB()\n",
    "model.fit(Xtrain, Ytrain)\n",
    "print(\"train score: \", model.score(Xtrain, Ytrain))\n",
    "print(\"test score: \", model.score(Xtest, Ytest))"
   ]
  },
  {
   "cell_type": "code",
   "execution_count": 41,
   "id": "2cbfb174-edd2-4e18-91e5-f47573b7c47d",
   "metadata": {},
   "outputs": [],
   "source": [
    "class StemTokenizer:\n",
    "    def __init__(self):\n",
    "        self.porter = PorterStemmer()\n",
    "    def __call__(self, doc):\n",
    "        tokens = word_tokenize(doc)\n",
    "        return [self.porter.stem(t) for t in tokens]"
   ]
  },
  {
   "cell_type": "code",
   "execution_count": 49,
   "id": "1677e5cf-d569-476a-9f53-9283b6a0fbc4",
   "metadata": {},
   "outputs": [
    {
     "name": "stderr",
     "output_type": "stream",
     "text": [
      "C:\\Users\\Deepam Shah\\AppData\\Local\\Programs\\Python\\Python312\\Lib\\site-packages\\sklearn\\feature_extraction\\text.py:517: UserWarning: The parameter 'token_pattern' will not be used since 'tokenizer' is not None'\n",
      "  warnings.warn(\n"
     ]
    },
    {
     "data": {
      "text/plain": [
       "(1668, 22714)"
      ]
     },
     "execution_count": 49,
     "metadata": {},
     "output_type": "execute_result"
    }
   ],
   "source": [
    "# with stemming\n",
    "vectorizer = CountVectorizer(tokenizer=StemTokenizer())\n",
    "Xtrain = vectorizer.fit_transform(inputs_train)\n",
    "Xtest = vectorizer.transform(inputs_test)\n",
    "Xtrain.shape"
   ]
  },
  {
   "cell_type": "code",
   "execution_count": 50,
   "id": "e75f48c8-9c8e-4773-bc7b-ba1599018820",
   "metadata": {},
   "outputs": [
    {
     "name": "stdout",
     "output_type": "stream",
     "text": [
      "train score:  0.9892086330935251\n",
      "test score:  0.9694793536804309\n"
     ]
    }
   ],
   "source": [
    "model = MultinomialNB()\n",
    "model.fit(Xtrain, Ytrain)\n",
    "print(\"train score: \", model.score(Xtrain, Ytrain))\n",
    "print(\"test score: \", model.score(Xtest, Ytest))"
   ]
  },
  {
   "cell_type": "code",
   "execution_count": 44,
   "id": "5ed53e4e-6c91-4add-948f-3fbeb621ca61",
   "metadata": {},
   "outputs": [],
   "source": [
    "def simple_tokenizer(s):\n",
    "    return s.split()"
   ]
  },
  {
   "cell_type": "code",
   "execution_count": 51,
   "id": "59cedb31-06fc-4b77-8b6e-0f161c408193",
   "metadata": {},
   "outputs": [
    {
     "name": "stderr",
     "output_type": "stream",
     "text": [
      "C:\\Users\\Deepam Shah\\AppData\\Local\\Programs\\Python\\Python312\\Lib\\site-packages\\sklearn\\feature_extraction\\text.py:517: UserWarning: The parameter 'token_pattern' will not be used since 'tokenizer' is not None'\n",
      "  warnings.warn(\n"
     ]
    },
    {
     "data": {
      "text/plain": [
       "(1668, 52144)"
      ]
     },
     "execution_count": 51,
     "metadata": {},
     "output_type": "execute_result"
    }
   ],
   "source": [
    "# string split tokenizer\n",
    "vectorizer = CountVectorizer(tokenizer=simple_tokenizer)\n",
    "Xtrain = vectorizer.fit_transform(inputs_train)\n",
    "Xtest = vectorizer.transform(inputs_test)\n",
    "Xtrain.shape"
   ]
  },
  {
   "cell_type": "code",
   "execution_count": 52,
   "id": "7900b748-3c58-45ec-a24a-f3a524d8470a",
   "metadata": {},
   "outputs": [
    {
     "name": "stdout",
     "output_type": "stream",
     "text": [
      "train score:  0.9952038369304557\n",
      "test score:  0.9712746858168761\n"
     ]
    }
   ],
   "source": [
    "model = MultinomialNB()\n",
    "model.fit(Xtrain, Ytrain)\n",
    "print(\"train score: \", model.score(Xtrain, Ytrain))\n",
    "print(\"test score: \", model.score(Xtest, Ytest))"
   ]
  },
  {
   "cell_type": "markdown",
   "id": "27a80da2-5ca8-4ca6-bdf9-baa02b70120b",
   "metadata": {},
   "source": [
    "### What is the vector dimensionality in each case?\n",
    "\n",
    "#### The Xtrain shape for:-\n",
    "\n",
    "1. CountVectorizer:\n",
    "    * (1668, 52144)\n",
    "2. Stopwords:\n",
    "    * (1668, 25995)\n",
    "3. Lemmatization:\n",
    "    * (1668, 25894)\n",
    "4. Stemming:\n",
    "    * (1668, 22714)\n",
    "5. Simple_tokenzier:\n",
    "    * (1668, 52144)"
   ]
  },
  {
   "cell_type": "code",
   "execution_count": null,
   "id": "145b5f2f-34f6-49e8-8e94-ccb72111ce8a",
   "metadata": {},
   "outputs": [],
   "source": []
  },
  {
   "cell_type": "markdown",
   "id": "719e92fe-b9e9-4e31-a355-fcbd377b25b3",
   "metadata": {},
   "source": [
    "### Compare them and consider why they are larger / smaller\n",
    "\n",
    "* All your tokenizers were applied to the same 1668 training samples, so the first dimension stays 1668.\n",
    "\n",
    "* But the second dimension (number of unique tokens) varies depending on:\n",
    "\n",
    "    * Whether you lowercased or not\n",
    "\n",
    "    * Whether you removed stopwords\n",
    "\n",
    "    * Whether you lemmatized/stemmed\n",
    "\n",
    "    * Whether you used n-grams\n",
    " "
   ]
  },
  {
   "cell_type": "markdown",
   "id": "a72ad315-60f8-4994-aeb3-d89a5681e981",
   "metadata": {},
   "source": [
    "1. ***CountVectorizer*** (default)\n",
    "\n",
    "* Default tokenizer:\n",
    "\n",
    "    * Lowercases\n",
    "\n",
    "    * Splits on whitespace/punctuation\n",
    "\n",
    "    * Keeps stopwords\n",
    "\n",
    "    * No lemmatization or stemming\n",
    "\n",
    "* Tokens:\n",
    "\n",
    "```python\n",
    "sentence = \"The cats are running and playing in the gardens.\"\n",
    "\n",
    "\n",
    "Copy code\n",
    "['the', 'cats', 'are', 'running', 'and', 'playing', 'in', 'the', 'gardens']\n",
    "Unique words across all documents in your corpus → very large vocabulary.\n",
    "that’s why:\n",
    "\n",
    "\n",
    "Copy code\n",
    "(1668, 52144)\n",
    "Here: 52,144 unique words.\n",
    "```\n",
    "\n",
    "2. ***Stopwords removed***\n",
    "\n",
    "* Same tokenizer as default, but stopwords like `the`, `are`, `and`, `in` removed.\n",
    "\n",
    "```python\n",
    "sentence = \"The cats are running and playing in the gardens.\"\n",
    "\n",
    "Tokens:\n",
    "['cats', 'running', 'playing', 'gardens']\n",
    "\n",
    "Across all documents, a lot of very common words (stopwords) disappear.\n",
    "Vocabulary shrinks dramatically.\n",
    "\n",
    "Example reduction:\n",
    "\n",
    "scss\n",
    "Copy code\n",
    "(1668, 25995)\n",
    "Fewer unique tokens.\n",
    "```\n",
    "\n",
    "3. ***Lemmatization***\n",
    "   \n",
    "* Your LemmaTokenizer:\n",
    "\n",
    "    * Lowercases\n",
    "\n",
    "    * POS tags\n",
    "\n",
    "    * Lemmatizes\n",
    "\n",
    "Example transformations:\n",
    "\n",
    "```python\n",
    "sentence = \"The cats are running and playing in the gardens.\"\n",
    "\n",
    "'cats' → 'cat'\n",
    "'running' → 'run'\n",
    "'gardens' → 'garden'\n",
    "Tokens:\n",
    "['the', 'cat', 'be', 'run', 'and', 'play', 'in', 'the', 'garden']\n",
    "\n",
    "Notice:\n",
    "\n",
    "cats → cat\n",
    "running → run\n",
    "gardens → garden\n",
    "\n",
    "This reduces the vocabulary further because multiple forms merge into one.\n",
    "\n",
    "Example:\n",
    "(1668, 25894)\n",
    "Even smaller than stopwords-only because you normalize word forms.\n",
    "```\n",
    "\n",
    "4. ***Stemming***\n",
    "\n",
    "* Simple stemming with PorterStemmer or SnowballStemmer.\n",
    "\n",
    "Example transformations:\n",
    "\n",
    "```python\n",
    "sentence = \"The cats are running and playing in the gardens.\"\n",
    "\n",
    "'cats' → 'cat'\n",
    "'running' → 'run'\n",
    "'playing' → 'play'\n",
    "'gardens' → 'garden'\n",
    "Similar effect to lemmatization, but usually more aggressive and less accurate.\n",
    "\n",
    "Tokens:\n",
    "['the', 'cat', 'are', 'run', 'and', 'play', 'in', 'the', 'garden']\n",
    "Because many words collapse to same stem, vocabulary shrinks further:\n",
    "\n",
    "(1668, 22714)\n",
    "```\n",
    "\n",
    "5. ***Simple_tokenizer***\n",
    "\n",
    "* simple_tokenizer = lambda x: x.split()\n",
    "This:\n",
    "\n",
    "    * Does not lowercase\n",
    "\n",
    "    * Does not strip punctuation\n",
    "\n",
    "    * Does not remove stopwords\n",
    "\n",
    "    * Does not lemmatize/stem\n",
    "\n",
    "Example tokens:\n",
    "```python\n",
    "['The', 'cats', 'are', 'running', 'and', 'playing', 'in', 'the', 'gardens.']\n",
    "Note:\n",
    "\n",
    "'The' ≠ 'the'\n",
    "\n",
    "'gardens.' ≠ 'gardens'\n",
    "\n",
    "This balloons your vocabulary because:\n",
    "\n",
    "'Word' and 'word' are different\n",
    "\n",
    "Punctuation remains attached\n",
    "\n",
    "So you get a massive vocabulary:\n",
    "\n",
    "\n",
    "(1668, 52144)\n",
    "— same size as default CountVectorizer.\n",
    "```"
   ]
  },
  {
   "cell_type": "code",
   "execution_count": null,
   "id": "b4304d53-3bfa-40c5-86ed-adca6c411a4f",
   "metadata": {},
   "outputs": [],
   "source": []
  }
 ],
 "metadata": {
  "kernelspec": {
   "display_name": "Python 3 (ipykernel)",
   "language": "python",
   "name": "python3"
  },
  "language_info": {
   "codemirror_mode": {
    "name": "ipython",
    "version": 3
   },
   "file_extension": ".py",
   "mimetype": "text/x-python",
   "name": "python",
   "nbconvert_exporter": "python",
   "pygments_lexer": "ipython3",
   "version": "3.12.8"
  }
 },
 "nbformat": 4,
 "nbformat_minor": 5
}
