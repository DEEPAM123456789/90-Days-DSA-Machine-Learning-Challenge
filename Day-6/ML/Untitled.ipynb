{
 "cells": [
  {
   "cell_type": "code",
   "execution_count": 1,
   "id": "e63a74b8-a266-4684-968a-2058c02f68cf",
   "metadata": {
    "scrolled": true
   },
   "outputs": [
    {
     "name": "stdout",
     "output_type": "stream",
     "text": [
      "Requirement already satisfied: gensim in c:\\users\\deepam shah\\appdata\\local\\programs\\python\\python312\\lib\\site-packages (4.3.3)\n",
      "Requirement already satisfied: numpy<2.0,>=1.18.5 in c:\\users\\deepam shah\\appdata\\local\\programs\\python\\python312\\lib\\site-packages (from gensim) (1.26.4)\n",
      "Requirement already satisfied: scipy<1.14.0,>=1.7.0 in c:\\users\\deepam shah\\appdata\\local\\programs\\python\\python312\\lib\\site-packages (from gensim) (1.13.1)\n",
      "Requirement already satisfied: smart-open>=1.8.1 in c:\\users\\deepam shah\\appdata\\local\\programs\\python\\python312\\lib\\site-packages (from gensim) (7.3.0.post1)\n",
      "Requirement already satisfied: wrapt in c:\\users\\deepam shah\\appdata\\local\\programs\\python\\python312\\lib\\site-packages (from smart-open>=1.8.1->gensim) (1.17.2)\n",
      "Note: you may need to restart the kernel to use updated packages.\n"
     ]
    },
    {
     "name": "stderr",
     "output_type": "stream",
     "text": [
      "\n",
      "[notice] A new release of pip is available: 25.0.1 -> 25.1.1\n",
      "[notice] To update, run: C:\\Users\\Deepam Shah\\AppData\\Local\\Programs\\Python\\Python312\\python.exe -m pip install --upgrade pip\n"
     ]
    }
   ],
   "source": [
    "pip install gensim"
   ]
  },
  {
   "cell_type": "code",
   "execution_count": 5,
   "id": "6d1ef9cf-8877-4bfd-a373-391acc1bc825",
   "metadata": {},
   "outputs": [],
   "source": [
    "import gensim.downloader as api\n",
    "word_vectors = api.load(\"word2vec-google-news-300\")"
   ]
  },
  {
   "cell_type": "code",
   "execution_count": 6,
   "id": "ecd7a8ef-eef6-43ec-a7b6-e55a26559e78",
   "metadata": {},
   "outputs": [],
   "source": [
    "from gensim.models import KeyedVectors"
   ]
  },
  {
   "cell_type": "code",
   "execution_count": 13,
   "id": "15dfac74-23c2-4d2e-a146-ac21835cee33",
   "metadata": {},
   "outputs": [],
   "source": [
    "def find_analogies (w1, w2, w3):\n",
    "    # w1 - w2 = ? - w3\n",
    "    # e.g. king - man = ? - woman\n",
    "    # ? = +king +woman -man\n",
    "    r = word_vectors.most_similar(positive=[w1, w3], negative=[w2])\n",
    "    print(\"%s - %s = %s - %s\" % (w1, w2, r[0][0], w3))"
   ]
  },
  {
   "cell_type": "code",
   "execution_count": 14,
   "id": "c561f210-9751-4742-b3d4-36815f63f0f9",
   "metadata": {},
   "outputs": [
    {
     "name": "stdout",
     "output_type": "stream",
     "text": [
      "king - man = queen - woman\n"
     ]
    }
   ],
   "source": [
    "find_analogies(\"king\", \"man\", \"woman\")"
   ]
  },
  {
   "cell_type": "code",
   "execution_count": 15,
   "id": "300142f4-eb20-4f1b-bb83-e1bc43b4e17c",
   "metadata": {},
   "outputs": [
    {
     "name": "stdout",
     "output_type": "stream",
     "text": [
      "france - paris = england - london\n"
     ]
    }
   ],
   "source": [
    "find_analogies(\"france\", \"paris\", \"london\")"
   ]
  },
  {
   "cell_type": "code",
   "execution_count": 16,
   "id": "4d0ef55d-a4e2-4f90-9c68-70635ef2456c",
   "metadata": {},
   "outputs": [
    {
     "name": "stdout",
     "output_type": "stream",
     "text": [
      "India - Delhi = Taiwan - China\n"
     ]
    }
   ],
   "source": [
    "find_analogies(\"India\", \"Delhi\", \"China\")"
   ]
  },
  {
   "cell_type": "code",
   "execution_count": 17,
   "id": "8fd9d29d-d52c-4d17-9a58-af93fcd93ec9",
   "metadata": {},
   "outputs": [
    {
     "name": "stdout",
     "output_type": "stream",
     "text": [
      "france - paris = india - delhi\n"
     ]
    }
   ],
   "source": [
    "find_analogies(\"france\", \"paris\", \"delhi\")"
   ]
  },
  {
   "cell_type": "code",
   "execution_count": 18,
   "id": "2a601bad-d309-444f-8a9f-27a7a5cde523",
   "metadata": {},
   "outputs": [
    {
     "name": "stdout",
     "output_type": "stream",
     "text": [
      "france - paris = italy - rome\n"
     ]
    }
   ],
   "source": [
    "find_analogies(\"france\", \"paris\", \"rome\")"
   ]
  },
  {
   "cell_type": "code",
   "execution_count": 19,
   "id": "c50ef7d5-81ba-4a82-be4c-621daf715399",
   "metadata": {},
   "outputs": [
    {
     "name": "stdout",
     "output_type": "stream",
     "text": [
      "france - paris = england - italy\n"
     ]
    }
   ],
   "source": [
    "find_analogies(\"france\", \"paris\", \"italy\")"
   ]
  },
  {
   "cell_type": "code",
   "execution_count": 20,
   "id": "dfd56bfd-154e-4ae7-ae15-4f40d144ec72",
   "metadata": {},
   "outputs": [
    {
     "name": "stdout",
     "output_type": "stream",
     "text": [
      "paris - france = lohan - italy\n"
     ]
    }
   ],
   "source": [
    "find_analogies(\"paris\", \"france\", \"italy\")"
   ]
  },
  {
   "cell_type": "code",
   "execution_count": 21,
   "id": "237dbcba-a0f2-43da-918f-d08a3e5c737b",
   "metadata": {},
   "outputs": [
    {
     "name": "stdout",
     "output_type": "stream",
     "text": [
      "france - french = england - english\n"
     ]
    }
   ],
   "source": [
    "find_analogies(\"france\", \"french\", \"english\")"
   ]
  },
  {
   "cell_type": "code",
   "execution_count": 22,
   "id": "c8f5a724-4834-42ca-afc9-2c4c42291d58",
   "metadata": {},
   "outputs": [
    {
     "name": "stdout",
     "output_type": "stream",
     "text": [
      "japan - japanese = tibet - chinese\n"
     ]
    }
   ],
   "source": [
    "find_analogies(\"japan\", \"japanese\", \"chinese\")"
   ]
  },
  {
   "cell_type": "code",
   "execution_count": 23,
   "id": "be799b08-bd54-42b9-b5e5-63c7c99fcc67",
   "metadata": {},
   "outputs": [
    {
     "name": "stdout",
     "output_type": "stream",
     "text": [
      "december - november = september - june\n"
     ]
    }
   ],
   "source": [
    "find_analogies(\"december\", \"november\", \"june\")"
   ]
  },
  {
   "cell_type": "code",
   "execution_count": 24,
   "id": "b6a4c75c-c92e-4afb-85b0-f9986c12d835",
   "metadata": {},
   "outputs": [
    {
     "name": "stdout",
     "output_type": "stream",
     "text": [
      "miami - florida = dallas - texas\n"
     ]
    }
   ],
   "source": [
    "find_analogies(\"miami\", \"florida\", \"texas\")"
   ]
  },
  {
   "cell_type": "code",
   "execution_count": 25,
   "id": "fcc91c91-f5cb-4f68-9c88-455754f5a3d3",
   "metadata": {},
   "outputs": [
    {
     "name": "stdout",
     "output_type": "stream",
     "text": [
      "einstein - scientist = jude - painter\n"
     ]
    }
   ],
   "source": [
    "find_analogies(\"einstein\", \"scientist\", \"painter\")"
   ]
  },
  {
   "cell_type": "code",
   "execution_count": 26,
   "id": "eef198c9-c2e1-4582-8c24-56d0ff1cb894",
   "metadata": {},
   "outputs": [
    {
     "name": "stdout",
     "output_type": "stream",
     "text": [
      "man - woman = he - she\n"
     ]
    }
   ],
   "source": [
    "find_analogies(\"man\", \"woman\", \"she\")"
   ]
  },
  {
   "cell_type": "code",
   "execution_count": 27,
   "id": "64e37f18-715d-4815-b7b1-4a26a1864790",
   "metadata": {},
   "outputs": [
    {
     "name": "stdout",
     "output_type": "stream",
     "text": [
      "man - woman = uncle - aunt\n"
     ]
    }
   ],
   "source": [
    "find_analogies(\"man\", \"woman\", \"aunt\")"
   ]
  },
  {
   "cell_type": "code",
   "execution_count": 28,
   "id": "8708b46e-262c-49ab-927b-86160816c1b1",
   "metadata": {},
   "outputs": [
    {
     "name": "stdout",
     "output_type": "stream",
     "text": [
      "man - woman = brother - sister\n"
     ]
    }
   ],
   "source": [
    "find_analogies(\"man\", \"woman\", \"sister\")"
   ]
  },
  {
   "cell_type": "code",
   "execution_count": 29,
   "id": "be3f0d01-6268-4642-bfcb-9023dcea3aad",
   "metadata": {},
   "outputs": [
    {
     "name": "stdout",
     "output_type": "stream",
     "text": [
      "man - woman = son - wife\n"
     ]
    }
   ],
   "source": [
    "find_analogies(\"man\", \"woman\", \"wife\")"
   ]
  },
  {
   "cell_type": "code",
   "execution_count": 30,
   "id": "dd2d2f90-7bba-44d5-a86f-061bbea2c997",
   "metadata": {},
   "outputs": [
    {
     "name": "stdout",
     "output_type": "stream",
     "text": [
      "man - woman = actor - actress\n"
     ]
    }
   ],
   "source": [
    "find_analogies(\"man\", \"woman\", \"actress\")"
   ]
  },
  {
   "cell_type": "code",
   "execution_count": 31,
   "id": "a1a481a9-2235-4fb2-a6ad-a33bea3180f9",
   "metadata": {},
   "outputs": [
    {
     "name": "stdout",
     "output_type": "stream",
     "text": [
      "man - woman = father - mother\n"
     ]
    }
   ],
   "source": [
    "find_analogies(\"man\", \"woman\", \"mother\")"
   ]
  },
  {
   "cell_type": "code",
   "execution_count": 32,
   "id": "80d7488c-7ae2-4da2-bcb8-b901c0558bd6",
   "metadata": {},
   "outputs": [
    {
     "name": "stdout",
     "output_type": "stream",
     "text": [
      "nephew - niece = uncle - aunt\n"
     ]
    }
   ],
   "source": [
    "find_analogies(\"nephew\", \"niece\", \"aunt\")"
   ]
  },
  {
   "cell_type": "code",
   "execution_count": null,
   "id": "8174a34a-757b-45c7-bcf0-a9b39aa721a7",
   "metadata": {},
   "outputs": [],
   "source": []
  },
  {
   "cell_type": "code",
   "execution_count": 35,
   "id": "755c8a8f-b7ed-4773-92fd-8adecfad30d4",
   "metadata": {},
   "outputs": [],
   "source": [
    "def nearest_neighbors(w):\n",
    "    r = word_vectors.most_similar(positive=[w])\n",
    "    print(\"neighbors of: %s\" % w)\n",
    "    for word, score in r:\n",
    "        print(\"\\t%s\" % word)"
   ]
  },
  {
   "cell_type": "code",
   "execution_count": 36,
   "id": "5af2e18e-e1cd-4c71-ba6e-f5b54ebc8d3e",
   "metadata": {},
   "outputs": [
    {
     "name": "stdout",
     "output_type": "stream",
     "text": [
      "neighbors of: king\n",
      "\tkings\n",
      "\tqueen\n",
      "\tmonarch\n",
      "\tcrown_prince\n",
      "\tprince\n",
      "\tsultan\n",
      "\truler\n",
      "\tprinces\n",
      "\tPrince_Paras\n",
      "\tthrone\n"
     ]
    }
   ],
   "source": [
    "nearest_neighbors('king')"
   ]
  },
  {
   "cell_type": "code",
   "execution_count": 37,
   "id": "74232520-ceb4-4c8f-9165-23433e0ee5b1",
   "metadata": {},
   "outputs": [
    {
     "name": "stdout",
     "output_type": "stream",
     "text": [
      "neighbors of: france\n",
      "\tspain\n",
      "\tfrench\n",
      "\tgermany\n",
      "\teurope\n",
      "\titaly\n",
      "\tengland\n",
      "\teuropean\n",
      "\tbelgium\n",
      "\tusa\n",
      "\tserbia\n"
     ]
    }
   ],
   "source": [
    "nearest_neighbors('france')"
   ]
  },
  {
   "cell_type": "code",
   "execution_count": 38,
   "id": "aa697701-acf7-4285-bcba-2e7d130f0f81",
   "metadata": {},
   "outputs": [
    {
     "name": "stdout",
     "output_type": "stream",
     "text": [
      "neighbors of: japan\n",
      "\tjapanese\n",
      "\ttokyo\n",
      "\tamerica\n",
      "\teurope\n",
      "\tgermany\n",
      "\tchinese\n",
      "\tindia\n",
      "\thawaii\n",
      "\tusa\n",
      "\tkorea\n"
     ]
    }
   ],
   "source": [
    "nearest_neighbors('japan')"
   ]
  },
  {
   "cell_type": "code",
   "execution_count": 39,
   "id": "da35d9a4-d096-482c-845d-ee2fa3158cb5",
   "metadata": {},
   "outputs": [
    {
     "name": "stdout",
     "output_type": "stream",
     "text": [
      "neighbors of: einstein\n",
      "\tnikki\n",
      "\tlmfao\n",
      "\talbert\n",
      "\tarmstrong\n",
      "\tjoan\n",
      "\tbecky\n",
      "\tmcmahon\n",
      "\tconrad\n",
      "\tlori\n",
      "\thaley\n"
     ]
    }
   ],
   "source": [
    "nearest_neighbors('einstein')"
   ]
  },
  {
   "cell_type": "code",
   "execution_count": 40,
   "id": "99495c97-96f5-43cf-bd5c-ef28a6527285",
   "metadata": {},
   "outputs": [
    {
     "name": "stdout",
     "output_type": "stream",
     "text": [
      "neighbors of: woman\n",
      "\tman\n",
      "\tgirl\n",
      "\tteenage_girl\n",
      "\tteenager\n",
      "\tlady\n",
      "\tteenaged_girl\n",
      "\tmother\n",
      "\tpolicewoman\n",
      "\tboy\n",
      "\tWoman\n"
     ]
    }
   ],
   "source": [
    "nearest_neighbors('woman')"
   ]
  },
  {
   "cell_type": "code",
   "execution_count": 41,
   "id": "d54f2f90-0f49-423f-b6aa-e66a3d16662e",
   "metadata": {},
   "outputs": [
    {
     "name": "stdout",
     "output_type": "stream",
     "text": [
      "neighbors of: nephew\n",
      "\tson\n",
      "\tuncle\n",
      "\tbrother\n",
      "\tgrandson\n",
      "\tcousin\n",
      "\tfather\n",
      "\tniece\n",
      "\tyounger_brother\n",
      "\tnephews\n",
      "\tstepson\n"
     ]
    }
   ],
   "source": [
    "nearest_neighbors('nephew')"
   ]
  },
  {
   "cell_type": "code",
   "execution_count": 42,
   "id": "1ce0cd11-7681-463f-bf19-4fb25b6e4ce9",
   "metadata": {},
   "outputs": [
    {
     "name": "stdout",
     "output_type": "stream",
     "text": [
      "neighbors of: february\n",
      "\tjanuary\n",
      "\tapril\n",
      "\tseptember\n",
      "\tdecember\n",
      "\tjuly\n",
      "\toctober\n",
      "\tnovember\n",
      "\tjune\n",
      "\tfeb\n",
      "\tnorway\n"
     ]
    }
   ],
   "source": [
    "nearest_neighbors('february')"
   ]
  },
  {
   "cell_type": "code",
   "execution_count": 43,
   "id": "815b9c70-dcb7-459d-9e67-54da80ef3751",
   "metadata": {},
   "outputs": [
    {
     "name": "stdout",
     "output_type": "stream",
     "text": [
      "neighbors of: Coder\n",
      "\tRichling\n",
      "\tShank\n",
      "\tCorle\n",
      "\tTrovinger\n",
      "\tFoltz\n",
      "\tPeddycord\n",
      "\tNeufelder\n",
      "\tAkens\n",
      "\tRickabaugh\n",
      "\tCheely\n"
     ]
    }
   ],
   "source": [
    "nearest_neighbors('Coder')"
   ]
  },
  {
   "cell_type": "code",
   "execution_count": 44,
   "id": "96639b53-80cd-422b-8ff5-f67ed723ff3c",
   "metadata": {},
   "outputs": [
    {
     "name": "stdout",
     "output_type": "stream",
     "text": [
      "neighbors of: man\n",
      "\twoman\n",
      "\tboy\n",
      "\tteenager\n",
      "\tteenage_girl\n",
      "\tgirl\n",
      "\tsuspected_purse_snatcher\n",
      "\trobber\n",
      "\tRobbery_suspect\n",
      "\tteen_ager\n",
      "\tmen\n"
     ]
    }
   ],
   "source": [
    "nearest_neighbors('man')"
   ]
  },
  {
   "cell_type": "code",
   "execution_count": 45,
   "id": "e3b81025-2d6a-4c2d-96ca-e51bc9cf2add",
   "metadata": {},
   "outputs": [],
   "source": [
    "# Exercise: download pretrained GloVe vectors from\n",
    "# https://nlp.standford.edu/projects/glove/\n",
    "#\n",
    "# Implement your own find_analogies() and nearest_neighbors()"
   ]
  },
  {
   "cell_type": "code",
   "execution_count": null,
   "id": "3d132506-1185-4e0d-8926-3ab83177363b",
   "metadata": {},
   "outputs": [],
   "source": []
  }
 ],
 "metadata": {
  "kernelspec": {
   "display_name": "Python 3 (ipykernel)",
   "language": "python",
   "name": "python3"
  },
  "language_info": {
   "codemirror_mode": {
    "name": "ipython",
    "version": 3
   },
   "file_extension": ".py",
   "mimetype": "text/x-python",
   "name": "python",
   "nbconvert_exporter": "python",
   "pygments_lexer": "ipython3",
   "version": "3.12.8"
  }
 },
 "nbformat": 4,
 "nbformat_minor": 5
}
