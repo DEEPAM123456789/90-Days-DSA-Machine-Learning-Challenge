{
 "cells": [
  {
   "cell_type": "markdown",
   "id": "db513a52-ede8-48bc-9ec5-31ed3c208c83",
   "metadata": {},
   "source": [
    "# Theory\n",
    "\n",
    "1. **What is TF-IDF?**\n",
    "* TF-IDF = Term Frequency – Inverse Document Frequency\n",
    "\n",
    "* Goal:\n",
    "    * Give each word a weight:\n",
    "    * High if it’s important to the document.\n",
    "    * Low if it’s common in many documents (less informative).\n",
    "\n",
    "2. **The intuition**\n",
    "* Imagine you have a library.\n",
    "\n",
    "    * If a word occurs a lot in one document, it’s probably important.\n",
    "\n",
    "    * If a word occurs in every document, it’s probably boring.\n",
    "\n",
    "* TF-IDF balances these:\n",
    "\n",
    "    * Term Frequency (TF) says: “How frequent is this word in this document?”\n",
    "\n",
    "    * Inverse Document Frequency (IDF) says: “How rare is this word across the whole corpus?\n",
    " \n",
    "3. **The Formulas**\n",
    "\n",
    "**Term Frequency (TF)**  \n",
    "Measures how often a term appears in a document.\n",
    "\n",
    "$$\n",
    "\\text{TF}(t, d) = \\frac{\\text{Number of occurrences of term } t \\text{ in document } d}{\\text{Total number of terms in document } d}\n",
    "$$\n",
    "\n",
    "---\n",
    "\n",
    "**Inverse Document Frequency (IDF)**  \n",
    "Measures how rare a term is across all documents.\n",
    "\n",
    "$$\n",
    "\\text{IDF}(t) = \\log\\left(\\frac{N}{\\text{df}(t)}\\right)\n",
    "$$\n",
    "\n",
    "**Where:**\n",
    "\n",
    "-  $$(N)$$ = total number of documents  \n",
    "-  $$\\text{df}(t)$$ = number of documents containing term \\(t\\)\n",
    "\n",
    "---\n",
    "\n",
    "**TF-IDF**\n",
    "\n",
    "$$\n",
    "\\text{TF-IDF}(t,d) = \\text{TF}(t,d) \\times \\text{IDF}(t)\n",
    "$$\n",
    "\n",
    "---\n",
    "\n",
    "**Interpretation**\n",
    "\n",
    "- **High TF-IDF:** Term is frequent in this document but rare across the corpus.\n",
    "- **Low TF-IDF:** Term is common across many documents or infrequent everywhere.\n"
   ]
  },
  {
   "cell_type": "code",
   "execution_count": null,
   "id": "dc20428c-c277-48c1-bd7d-297e69389498",
   "metadata": {},
   "outputs": [],
   "source": []
  },
  {
   "cell_type": "code",
   "execution_count": 41,
   "id": "62b96821-3ed9-48c7-b6b5-116160b71432",
   "metadata": {},
   "outputs": [],
   "source": [
    "import pandas as pd\n",
    "import matplotlib.pyplot as plt\n",
    "import json\n",
    "\n",
    "from sklearn.feature_extraction.text import TfidfVectorizer\n",
    "from sklearn.metrics.pairwise import cosine_similarity, euclidean_distances\n",
    "import numpy as np"
   ]
  },
  {
   "cell_type": "code",
   "execution_count": 8,
   "id": "d540bbfd-1126-43e3-bb31-64cf4d028d8a",
   "metadata": {},
   "outputs": [
    {
     "data": {
      "text/html": [
       "<div>\n",
       "<style scoped>\n",
       "    .dataframe tbody tr th:only-of-type {\n",
       "        vertical-align: middle;\n",
       "    }\n",
       "\n",
       "    .dataframe tbody tr th {\n",
       "        vertical-align: top;\n",
       "    }\n",
       "\n",
       "    .dataframe thead th {\n",
       "        text-align: right;\n",
       "    }\n",
       "</style>\n",
       "<table border=\"1\" class=\"dataframe\">\n",
       "  <thead>\n",
       "    <tr style=\"text-align: right;\">\n",
       "      <th></th>\n",
       "      <th>id</th>\n",
       "      <th>imdb_id</th>\n",
       "      <th>popularity</th>\n",
       "      <th>budget</th>\n",
       "      <th>revenue</th>\n",
       "      <th>original_title</th>\n",
       "      <th>cast</th>\n",
       "      <th>homepage</th>\n",
       "      <th>director</th>\n",
       "      <th>tagline</th>\n",
       "      <th>keywords</th>\n",
       "      <th>overview</th>\n",
       "      <th>runtime</th>\n",
       "      <th>genres</th>\n",
       "      <th>production_companies</th>\n",
       "      <th>release_date</th>\n",
       "      <th>vote_count</th>\n",
       "      <th>vote_average</th>\n",
       "      <th>release_year</th>\n",
       "      <th>budget_adj</th>\n",
       "      <th>revenue_adj</th>\n",
       "    </tr>\n",
       "  </thead>\n",
       "  <tbody>\n",
       "    <tr>\n",
       "      <th>0</th>\n",
       "      <td>135397</td>\n",
       "      <td>tt0369610</td>\n",
       "      <td>32.985763</td>\n",
       "      <td>150000000</td>\n",
       "      <td>1513528810</td>\n",
       "      <td>Jurassic World</td>\n",
       "      <td>Chris Pratt|Bryce Dallas Howard|Irrfan Khan|Vi...</td>\n",
       "      <td>http://www.jurassicworld.com/</td>\n",
       "      <td>Colin Trevorrow</td>\n",
       "      <td>The park is open.</td>\n",
       "      <td>monster|dna|tyrannosaurus rex|velociraptor|island</td>\n",
       "      <td>Twenty-two years after the events of Jurassic ...</td>\n",
       "      <td>124</td>\n",
       "      <td>Action|Adventure|Science Fiction|Thriller</td>\n",
       "      <td>Universal Studios|Amblin Entertainment|Legenda...</td>\n",
       "      <td>6/9/15</td>\n",
       "      <td>5562</td>\n",
       "      <td>6.5</td>\n",
       "      <td>2015</td>\n",
       "      <td>1.379999e+08</td>\n",
       "      <td>1.392446e+09</td>\n",
       "    </tr>\n",
       "    <tr>\n",
       "      <th>1</th>\n",
       "      <td>76341</td>\n",
       "      <td>tt1392190</td>\n",
       "      <td>28.419936</td>\n",
       "      <td>150000000</td>\n",
       "      <td>378436354</td>\n",
       "      <td>Mad Max: Fury Road</td>\n",
       "      <td>Tom Hardy|Charlize Theron|Hugh Keays-Byrne|Nic...</td>\n",
       "      <td>http://www.madmaxmovie.com/</td>\n",
       "      <td>George Miller</td>\n",
       "      <td>What a Lovely Day.</td>\n",
       "      <td>future|chase|post-apocalyptic|dystopia|australia</td>\n",
       "      <td>An apocalyptic story set in the furthest reach...</td>\n",
       "      <td>120</td>\n",
       "      <td>Action|Adventure|Science Fiction|Thriller</td>\n",
       "      <td>Village Roadshow Pictures|Kennedy Miller Produ...</td>\n",
       "      <td>5/13/15</td>\n",
       "      <td>6185</td>\n",
       "      <td>7.1</td>\n",
       "      <td>2015</td>\n",
       "      <td>1.379999e+08</td>\n",
       "      <td>3.481613e+08</td>\n",
       "    </tr>\n",
       "    <tr>\n",
       "      <th>2</th>\n",
       "      <td>262500</td>\n",
       "      <td>tt2908446</td>\n",
       "      <td>13.112507</td>\n",
       "      <td>110000000</td>\n",
       "      <td>295238201</td>\n",
       "      <td>Insurgent</td>\n",
       "      <td>Shailene Woodley|Theo James|Kate Winslet|Ansel...</td>\n",
       "      <td>http://www.thedivergentseries.movie/#insurgent</td>\n",
       "      <td>Robert Schwentke</td>\n",
       "      <td>One Choice Can Destroy You</td>\n",
       "      <td>based on novel|revolution|dystopia|sequel|dyst...</td>\n",
       "      <td>Beatrice Prior must confront her inner demons ...</td>\n",
       "      <td>119</td>\n",
       "      <td>Adventure|Science Fiction|Thriller</td>\n",
       "      <td>Summit Entertainment|Mandeville Films|Red Wago...</td>\n",
       "      <td>3/18/15</td>\n",
       "      <td>2480</td>\n",
       "      <td>6.3</td>\n",
       "      <td>2015</td>\n",
       "      <td>1.012000e+08</td>\n",
       "      <td>2.716190e+08</td>\n",
       "    </tr>\n",
       "    <tr>\n",
       "      <th>3</th>\n",
       "      <td>140607</td>\n",
       "      <td>tt2488496</td>\n",
       "      <td>11.173104</td>\n",
       "      <td>200000000</td>\n",
       "      <td>2068178225</td>\n",
       "      <td>Star Wars: The Force Awakens</td>\n",
       "      <td>Harrison Ford|Mark Hamill|Carrie Fisher|Adam D...</td>\n",
       "      <td>http://www.starwars.com/films/star-wars-episod...</td>\n",
       "      <td>J.J. Abrams</td>\n",
       "      <td>Every generation has a story.</td>\n",
       "      <td>android|spaceship|jedi|space opera|3d</td>\n",
       "      <td>Thirty years after defeating the Galactic Empi...</td>\n",
       "      <td>136</td>\n",
       "      <td>Action|Adventure|Science Fiction|Fantasy</td>\n",
       "      <td>Lucasfilm|Truenorth Productions|Bad Robot</td>\n",
       "      <td>12/15/15</td>\n",
       "      <td>5292</td>\n",
       "      <td>7.5</td>\n",
       "      <td>2015</td>\n",
       "      <td>1.839999e+08</td>\n",
       "      <td>1.902723e+09</td>\n",
       "    </tr>\n",
       "    <tr>\n",
       "      <th>4</th>\n",
       "      <td>168259</td>\n",
       "      <td>tt2820852</td>\n",
       "      <td>9.335014</td>\n",
       "      <td>190000000</td>\n",
       "      <td>1506249360</td>\n",
       "      <td>Furious 7</td>\n",
       "      <td>Vin Diesel|Paul Walker|Jason Statham|Michelle ...</td>\n",
       "      <td>http://www.furious7.com/</td>\n",
       "      <td>James Wan</td>\n",
       "      <td>Vengeance Hits Home</td>\n",
       "      <td>car race|speed|revenge|suspense|car</td>\n",
       "      <td>Deckard Shaw seeks revenge against Dominic Tor...</td>\n",
       "      <td>137</td>\n",
       "      <td>Action|Crime|Thriller</td>\n",
       "      <td>Universal Pictures|Original Film|Media Rights ...</td>\n",
       "      <td>4/1/15</td>\n",
       "      <td>2947</td>\n",
       "      <td>7.3</td>\n",
       "      <td>2015</td>\n",
       "      <td>1.747999e+08</td>\n",
       "      <td>1.385749e+09</td>\n",
       "    </tr>\n",
       "  </tbody>\n",
       "</table>\n",
       "</div>"
      ],
      "text/plain": [
       "       id    imdb_id  popularity  ...  release_year    budget_adj   revenue_adj\n",
       "0  135397  tt0369610   32.985763  ...          2015  1.379999e+08  1.392446e+09\n",
       "1   76341  tt1392190   28.419936  ...          2015  1.379999e+08  3.481613e+08\n",
       "2  262500  tt2908446   13.112507  ...          2015  1.012000e+08  2.716190e+08\n",
       "3  140607  tt2488496   11.173104  ...          2015  1.839999e+08  1.902723e+09\n",
       "4  168259  tt2820852    9.335014  ...          2015  1.747999e+08  1.385749e+09\n",
       "\n",
       "[5 rows x 21 columns]"
      ]
     },
     "execution_count": 8,
     "metadata": {},
     "output_type": "execute_result"
    }
   ],
   "source": [
    "df = pd.read_csv(r\"C:\\Users\\Deepam Shah\\Downloads\\tmdb-movies.csv\")\n",
    "df.head()"
   ]
  },
  {
   "cell_type": "code",
   "execution_count": 9,
   "id": "5b9f8ed0-3e88-457b-9ae9-cf5e8324b22a",
   "metadata": {},
   "outputs": [
    {
     "data": {
      "text/plain": [
       "id                                                                 135397\n",
       "imdb_id                                                         tt0369610\n",
       "popularity                                                      32.985763\n",
       "budget                                                          150000000\n",
       "revenue                                                        1513528810\n",
       "original_title                                             Jurassic World\n",
       "cast                    Chris Pratt|Bryce Dallas Howard|Irrfan Khan|Vi...\n",
       "homepage                                    http://www.jurassicworld.com/\n",
       "director                                                  Colin Trevorrow\n",
       "tagline                                                 The park is open.\n",
       "keywords                monster|dna|tyrannosaurus rex|velociraptor|island\n",
       "overview                Twenty-two years after the events of Jurassic ...\n",
       "runtime                                                               124\n",
       "genres                          Action|Adventure|Science Fiction|Thriller\n",
       "production_companies    Universal Studios|Amblin Entertainment|Legenda...\n",
       "release_date                                                       6/9/15\n",
       "vote_count                                                           5562\n",
       "vote_average                                                          6.5\n",
       "release_year                                                         2015\n",
       "budget_adj                                               137999939.280026\n",
       "revenue_adj                                               1392445892.5238\n",
       "Name: 0, dtype: object"
      ]
     },
     "execution_count": 9,
     "metadata": {},
     "output_type": "execute_result"
    }
   ],
   "source": [
    "x = df.iloc[0]\n",
    "x"
   ]
  },
  {
   "cell_type": "code",
   "execution_count": null,
   "id": "f21b3a7b-cf23-4ae0-84f6-ba8f2f86d6fe",
   "metadata": {},
   "outputs": [],
   "source": []
  },
  {
   "cell_type": "markdown",
   "id": "7551ee26-cbe3-4687-a508-4d749ae9e825",
   "metadata": {},
   "source": [
    "### simple working of iloc explaination\n",
    "\n",
    "* .iloc[rows, columns]\n",
    "1. df.iloc[1]\n",
    "Returns row at index 1 (second row):\n",
    "2. df.iloc[[0, 2]]\n",
    "Returns rows 0 and 2:\n",
    "3. df.iloc[1:3]\n",
    "Returns rows 1 and 2 (note: end index is exclusive):\n",
    "4. df.iloc[0:3, 1:3]\n",
    "Means:\n",
    "Rows 0 to 2\n",
    "Columns 1 and 2 (columns by position: Age and City)\n",
    "5. df.iloc[2, 1]\n",
    "Row index 2, column index 1:\n",
    "6. df.iloc[:, 2]\n",
    "All rows, column at index 2 (City):\n",
    "7. df.iloc[-1]\n",
    "Returns the last row:\n",
    "\n",
    "* Tip to remember:\n",
    "\n",
    "    * iloc always uses integer positions.\n",
    "\n",
    "    * If you want to select by label names, use .loc."
   ]
  },
  {
   "cell_type": "code",
   "execution_count": 10,
   "id": "f8b41d6a-24c6-491d-99e6-c75aff11d3e6",
   "metadata": {},
   "outputs": [
    {
     "data": {
      "text/plain": [
       "'Action|Adventure|Science Fiction|Thriller'"
      ]
     },
     "execution_count": 10,
     "metadata": {},
     "output_type": "execute_result"
    }
   ],
   "source": [
    "x['genres']"
   ]
  },
  {
   "cell_type": "code",
   "execution_count": 23,
   "id": "88a55b51-2521-4512-afa5-b1daf13381d0",
   "metadata": {},
   "outputs": [
    {
     "name": "stdout",
     "output_type": "stream",
     "text": [
      "Action Adventure Science Fiction Thriller\n"
     ]
    }
   ],
   "source": [
    "j = x['genres']\n",
    "j = j.replace('|', ' ')\n",
    "print(j)"
   ]
  },
  {
   "cell_type": "code",
   "execution_count": 30,
   "id": "6d3cc6af-a497-4349-b47e-0f7f157b902c",
   "metadata": {},
   "outputs": [],
   "source": [
    "def combine_columns(row):\n",
    "    # Use str or '' if value is NaN\n",
    "    keywords = str(row[\"keywords\"]) if pd.notnull(row[\"keywords\"]) else \"\"\n",
    "    genres = str(row[\"genres\"]) if pd.notnull(row[\"genres\"]) else \"\"\n",
    "\n",
    "    # Replace | with space\n",
    "    keywords = keywords.replace(\"|\", \" \")\n",
    "    genres = genres.replace(\"|\", \" \")\n",
    "\n",
    "    # Concatenate all text\n",
    "    return f\"{keywords} {genres}\"\n"
   ]
  },
  {
   "cell_type": "code",
   "execution_count": 31,
   "id": "37e0c947-d223-4d0a-addf-b57100e2b03d",
   "metadata": {},
   "outputs": [],
   "source": [
    "# create a new string representation of each movie\n",
    "df['string'] = df.apply(combine_columns, axis=1)"
   ]
  },
  {
   "cell_type": "code",
   "execution_count": 34,
   "id": "eb22de9a-259b-4195-97b2-9a059fd550aa",
   "metadata": {},
   "outputs": [],
   "source": [
    "# create a tf-idf vectorizer object\n",
    "tfidf = TfidfVectorizer(max_features=2000)\n",
    "\n",
    "# Only keep the top 2000 most frequent terms across the entire corpus.\n",
    "\n",
    "# In other words:\n",
    "\n",
    "# First, TfidfVectorizer counts how often each term occurs across all documents.\n",
    "# It sorts all terms by frequency.\n",
    "# It keeps only the top 2000 terms (the most frequent).\n",
    "# All less frequent words are discarded and ignored."
   ]
  },
  {
   "cell_type": "code",
   "execution_count": 35,
   "id": "9435048a-d41a-4583-ad69-22bc4072a82b",
   "metadata": {},
   "outputs": [],
   "source": [
    "# create a data matrix from the overviews\n",
    "X = tfidf.fit_transform(df['string'])"
   ]
  },
  {
   "cell_type": "code",
   "execution_count": 36,
   "id": "d6b65e92-07af-4ff7-bf54-5afd3b67ebdf",
   "metadata": {},
   "outputs": [
    {
     "data": {
      "text/plain": [
       "<Compressed Sparse Row sparse matrix of dtype 'float64'\n",
       "\twith 74241 stored elements and shape (10866, 2000)>"
      ]
     },
     "execution_count": 36,
     "metadata": {},
     "output_type": "execute_result"
    }
   ],
   "source": [
    "X"
   ]
  },
  {
   "cell_type": "code",
   "execution_count": 37,
   "id": "4aee5b2b-5f26-446f-b062-9c59795b716f",
   "metadata": {},
   "outputs": [
    {
     "data": {
      "text/plain": [
       "74241"
      ]
     },
     "execution_count": 37,
     "metadata": {},
     "output_type": "execute_result"
    }
   ],
   "source": [
    "(X != 0).sum().item()"
   ]
  },
  {
   "cell_type": "code",
   "execution_count": 42,
   "id": "32430654-e590-469d-89ee-b508afc12285",
   "metadata": {},
   "outputs": [
    {
     "data": {
      "text/plain": [
       "0.003416206515737162"
      ]
     },
     "execution_count": 42,
     "metadata": {},
     "output_type": "execute_result"
    }
   ],
   "source": [
    "# What percentage of values are non-zero?\n",
    "((X != 0).sum().item()/ np.prod(X.shape)).item()"
   ]
  },
  {
   "cell_type": "code",
   "execution_count": 45,
   "id": "7f5b01db-d7c3-4c01-a53c-db6c977f17f0",
   "metadata": {},
   "outputs": [
    {
     "data": {
      "text/plain": [
       "original_title\n",
       "Jurassic World                      0\n",
       "Mad Max: Fury Road                  1\n",
       "Insurgent                           2\n",
       "Star Wars: The Force Awakens        3\n",
       "Furious 7                           4\n",
       "                                ...  \n",
       "The Endless Summer              10861\n",
       "Grand Prix                      10862\n",
       "Beregis Avtomobilya             10863\n",
       "What's Up, Tiger Lily?          10864\n",
       "Manos: The Hands of Fate        10865\n",
       "Length: 10866, dtype: int64"
      ]
     },
     "execution_count": 45,
     "metadata": {},
     "output_type": "execute_result"
    }
   ],
   "source": [
    "# generate a mapping from movie title -> index (in df)\n",
    "movie2idx = pd.Series(df.index, index=df['original_title'])\n",
    "movie2idx"
   ]
  },
  {
   "cell_type": "code",
   "execution_count": 48,
   "id": "abd1806b-1765-4b11-859d-9fa6f3888573",
   "metadata": {},
   "outputs": [
    {
     "data": {
      "text/plain": [
       "array(['Jurassic World', 'Mad Max: Fury Road', 'Insurgent', ...,\n",
       "       'Beregis Avtomobilya', \"What's Up, Tiger Lily?\",\n",
       "       'Manos: The Hands of Fate'], dtype=object)"
      ]
     },
     "execution_count": 48,
     "metadata": {},
     "output_type": "execute_result"
    }
   ],
   "source": [
    "df['original_title'].unique()"
   ]
  },
  {
   "cell_type": "markdown",
   "id": "9990cf33-a4ee-440b-bc0f-c0fd914cf425",
   "metadata": {},
   "source": [
    "How does pd.Series() work here?\n",
    "\n",
    "pd.Series(data, index=index)\n",
    "creates a Series where:\n",
    "\n",
    "Values = data\n",
    "\n",
    "Labels = index\n",
    "\n",
    "data = df.index\n",
    "[0, 1, 2, 3, 4]\n",
    "\n",
    "index = df['original_title']\n",
    "['Jurassic World', 'Mad Max', 'Divergent', 'Star Wars', 'Furious 7']\n",
    "\n",
    "\n",
    "Final result:- \n",
    "----------------------\n",
    "Jurassic World      0 |\n",
    "Mad Max             1 |\n",
    "Divergent           2 |\n",
    "Star Wars           3 |\n",
    "Furious 7           4 |\n",
    "dtype: int64\n",
    "-----------------------"
   ]
  },
  {
   "cell_type": "code",
   "execution_count": 64,
   "id": "0a4b80a0-633f-4046-bbdb-9f9092dfd14c",
   "metadata": {},
   "outputs": [
    {
     "data": {
      "text/plain": [
       "7827"
      ]
     },
     "execution_count": 64,
     "metadata": {},
     "output_type": "execute_result"
    }
   ],
   "source": [
    "idx = movie2idx['Mad Max']\n",
    "idx.item()"
   ]
  },
  {
   "cell_type": "code",
   "execution_count": 65,
   "id": "7c1554ab-ed0f-440a-9217-fd30c87fd59c",
   "metadata": {},
   "outputs": [
    {
     "data": {
      "text/plain": [
       "<Compressed Sparse Row sparse matrix of dtype 'float64'\n",
       "\twith 11 stored elements and shape (1, 2000)>"
      ]
     },
     "execution_count": 65,
     "metadata": {},
     "output_type": "execute_result"
    }
   ],
   "source": [
    "query = X[idx]\n",
    "query"
   ]
  },
  {
   "cell_type": "code",
   "execution_count": 66,
   "id": "976e8e65-64dc-44b1-99bd-48bb3153d10b",
   "metadata": {},
   "outputs": [
    {
     "data": {
      "text/plain": [
       "array([[0., 0., 0., ..., 0., 0., 0.]])"
      ]
     },
     "execution_count": 66,
     "metadata": {},
     "output_type": "execute_result"
    }
   ],
   "source": [
    "# print the query vector\n",
    "query.toarray()"
   ]
  },
  {
   "cell_type": "code",
   "execution_count": null,
   "id": "341cddd1-87fd-44cc-9a04-83710fdc6229",
   "metadata": {},
   "outputs": [],
   "source": []
  },
  {
   "cell_type": "markdown",
   "id": "b610bc27-3fbb-4f0b-a2be-bca21f7472f0",
   "metadata": {},
   "source": [
    "X[idx] selects the TF-IDF vector of a particular movie.\n",
    "\n",
    "* idx is the index you found via movie2idx[title].\n",
    "\n",
    "* So:\n",
    "    * If idx=0 (e.g., \"Jurassic World\"), then:\n",
    "\n",
    "\n",
    "* query = X[0]\n",
    "    * query is the vector representation of Jurassic World.\n"
   ]
  },
  {
   "cell_type": "code",
   "execution_count": null,
   "id": "75cacffb-fe09-4c4b-9206-5c5eda80b3bd",
   "metadata": {},
   "outputs": [],
   "source": []
  },
  {
   "cell_type": "markdown",
   "id": "31f8e484-c4a2-4726-bdaa-a8dc848a5689",
   "metadata": {},
   "source": [
    "## Typical workflow:\n",
    "* Let’s do it in plain steps:\n",
    "1. User picks:\n",
    "\"Mad Max\"\n",
    "\n",
    "2. You get index:\n",
    "idx = movie2idx[\"Mad Max\"]\n",
    "\n",
    "\n",
    "3. You get its TF-IDF vector:\n",
    "query = X[idx]\n",
    "\n",
    "\n",
    "4. You compare query to all other movies:\n",
    "\n",
    "```python\n",
    "from sklearn.metrics.pairwise import cosine_similarity\n",
    "sims = cosine_similarity(query, X)\n",
    "```\n",
    "* **This returns similarity scores between Mad Max and every other movie.**\n",
    "\n",
    "5. You sort and get the top N recommendations."
   ]
  },
  {
   "cell_type": "code",
   "execution_count": 67,
   "id": "8918c958-fc35-48f1-9995-c5d52de16fa8",
   "metadata": {},
   "outputs": [
    {
     "data": {
      "text/plain": [
       "(array([[0.13479062, 0.5119687 , 0.20810427, ..., 0.        , 0.04985118,\n",
       "         0.        ]]),\n",
       " (1, 10866))"
      ]
     },
     "execution_count": 67,
     "metadata": {},
     "output_type": "execute_result"
    }
   ],
   "source": [
    "# compute similarity between query vector and every vector in X\n",
    "scores = cosine_similarity(query, X)\n",
    "scores, scores.shape\n",
    "\n",
    "# Note if you have 10 query vectors and about 10000 movies then shape of scores would be (20, 10000)"
   ]
  },
  {
   "cell_type": "code",
   "execution_count": 68,
   "id": "e95952fa-6f93-40f0-b474-055a051750e5",
   "metadata": {},
   "outputs": [],
   "source": [
    "# currently the array is 1 x N, make it just a 1-D array\n",
    "scores = scores.flatten()"
   ]
  },
  {
   "cell_type": "code",
   "execution_count": 69,
   "id": "5ef1c46a-bf60-4b83-8ee2-9ab63ec6ab22",
   "metadata": {},
   "outputs": [
    {
     "data": {
      "image/png": "[encoded data removed]",
      "text/plain": [
       "<Figure size 640x480 with 1 Axes>"
      ]
     },
     "metadata": {},
     "output_type": "display_data"
    }
   ],
   "source": [
    "plt.plot(scores);"
   ]
  },
  {
   "cell_type": "code",
   "execution_count": 70,
   "id": "3b800479-79e3-4d06-98e9-5b6377b46676",
   "metadata": {},
   "outputs": [
    {
     "data": {
      "text/plain": [
       "array([ 7827,  3430,  3104, ..., 10863,    18, 10865])"
      ]
     },
     "execution_count": 70,
     "metadata": {},
     "output_type": "execute_result"
    }
   ],
   "source": [
    "(-scores).argsort()"
   ]
  },
  {
   "cell_type": "markdown",
   "id": "8d2c0ae8-6138-4f55-97c7-06af8290223f",
   "metadata": {},
   "source": [
    "#### (-scores).argsort()\n",
    "This:\n",
    "* Negates all the scores (so high similarity becomes low and vice versa)\n",
    "\n",
    "* Then does argsort(), which sorts the values from smallest to largest\n",
    "\n",
    "* Because you negated the scores, this gives you descending similarity order"
   ]
  },
  {
   "cell_type": "code",
   "execution_count": 71,
   "id": "e216a5f5-c01b-40f8-ad83-02d7b5ffcdfa",
   "metadata": {},
   "outputs": [
    {
     "data": {
      "image/png": "[encoded data removed]",
      "text/plain": [
       "<Figure size 640x480 with 1 Axes>"
      ]
     },
     "metadata": {},
     "output_type": "display_data"
    }
   ],
   "source": [
    "plt.plot(scores[(-scores).argsort()]);"
   ]
  },
  {
   "cell_type": "markdown",
   "id": "ff67fa4e-a474-4bbb-b7e1-b8d5078a66ef",
   "metadata": {},
   "source": [
    "#### What does argsort() do?\n",
    "* argsort() returns the indices that would sort the array.\n",
    "\n",
    "* You can use these indices to reorder the original array or index into other related arrays.\n",
    "```python\n",
    "arr = np.array([10, 30, 20])\n",
    "\n",
    "indices = np.argsort(arr)\n",
    "print(indices)\n",
    "\n",
    "Output:- \n",
    "[0, 2, 1]\n",
    "```\n",
    "* When you’re ranking movies:\n",
    "\n",
    "    * You don’t just want to sort the scores and lose track of which movie each score belongs to.\n",
    "\n",
    "    * You want to keep the mapping between similarity scores and the movie indices."
   ]
  },
  {
   "cell_type": "code",
   "execution_count": 72,
   "id": "c184de49-9067-448b-ab88-6240257611ba",
   "metadata": {},
   "outputs": [],
   "source": [
    "# Get the top 5 matches\n",
    "# Exclude self (similarity between query and itself yields max score)\n",
    "recommended_idx = (-scores).argsort()[1:6]"
   ]
  },
  {
   "cell_type": "code",
   "execution_count": 73,
   "id": "ae080009-e08f-4ff5-ae9a-1d1f4efe1219",
   "metadata": {},
   "outputs": [
    {
     "data": {
      "text/plain": [
       "3430            Priest\n",
       "3104    20 Years After\n",
       "5629     Bounty Killer\n",
       "338          Turbo Kid\n",
       "8379         Mad Max 2\n",
       "Name: original_title, dtype: object"
      ]
     },
     "execution_count": 73,
     "metadata": {},
     "output_type": "execute_result"
    }
   ],
   "source": [
    "df['original_title'].iloc[recommended_idx]"
   ]
  },
  {
   "cell_type": "code",
   "execution_count": 76,
   "id": "c7ae0577-00e0-447d-a361-50f31a590c00",
   "metadata": {},
   "outputs": [],
   "source": [
    "# create a function that generates recommendations\n",
    "def recommend(title):\n",
    "    # Get the row in the dataframe for this movie\n",
    "    idx = movie2idx[title]\n",
    "    if type[idx] == pd.Series:\n",
    "        idx = idx.iloc[0]\n",
    "\n",
    "    # calculate the pairwise similarities for this movie\n",
    "    query = X[idx]\n",
    "    scores = cosine_similarity(query, X)\n",
    "\n",
    "    # currently the array is 1 x N, make it just a 1-D array\n",
    "    scores = scores.flatten()\n",
    "\n",
    "    # Get the indexes of the highest scoring movies\n",
    "    # Get the first K recommendations\n",
    "    # Don't return itself!\n",
    "    recommended_idx = (-scores).argsort()[1:6]\n",
    "\n",
    "    # return the titles of the recommendations\n",
    "    return df['original_title'].iloc[recommended_idx]"
   ]
  },
  {
   "cell_type": "code",
   "execution_count": null,
   "id": "22c0fd06-4078-4102-a842-938c8ecb40db",
   "metadata": {},
   "outputs": [],
   "source": []
  },
  {
   "cell_type": "markdown",
   "id": "955e986d-e358-4b0b-b861-a4950fbd4309",
   "metadata": {},
   "source": [
    "### Why do we check the type?\n",
    "```python\n",
    "if type(idx) == pd.Series:\n",
    "    idx = idx.iloc[0]\n",
    "```\n",
    "* We check:\n",
    "\n",
    "    * Is idx a pd.Series?\n",
    "    * If yes, we grab the first element using .iloc[0].\n",
    "\n",
    "* Why? Because:\n",
    "\n",
    "    * Cosine similarity expects just one row index (an integer).\n",
    "    * Not a whole Series of multiple matches.\n",
    "\n",
    "* So this ensures:\n",
    "\n",
    "    * If title is unique: idx is an int, no problem.\n",
    "    * If title is duplicated: we just use the first match.\n",
    "\n",
    "#### Example:\n",
    "Suppose:\n",
    "```python\n",
    "movie2idx[\"Mad Max\"] = pd.Series([1, 102])\n",
    "```\n",
    "Then:\n",
    "```\n",
    "type(idx) == pd.Series      :-True\n",
    "```\n",
    "So:\n",
    "```python\n",
    "idx = idx.iloc[0]           # idx = 1\n",
    "```\n",
    "Now we can safely do:\n",
    "```python\n",
    "query = X[idx]\n",
    "```"
   ]
  },
  {
   "cell_type": "code",
   "execution_count": null,
   "id": "3ad0ddf2-7b92-483d-b3ac-736c2757e8c3",
   "metadata": {},
   "outputs": [],
   "source": []
  },
  {
   "cell_type": "code",
   "execution_count": 77,
   "id": "dff6511e-8565-46cb-a87a-9bc446106cb5",
   "metadata": {},
   "outputs": [
    {
     "name": "stdout",
     "output_type": "stream",
     "text": [
      "Recommendations for 'Mad Max':\n",
      "3430            Priest\n",
      "3104    20 Years After\n",
      "5629     Bounty Killer\n",
      "338          Turbo Kid\n",
      "8379         Mad Max 2\n",
      "Name: original_title, dtype: object\n"
     ]
    }
   ],
   "source": [
    "print(\"Recommendations for 'Mad Max':\")\n",
    "print(recommend('Mad Max'))"
   ]
  },
  {
   "cell_type": "code",
   "execution_count": 79,
   "id": "839a84ad-eefd-40b2-bf3f-c0eae778f416",
   "metadata": {},
   "outputs": [
    {
     "name": "stdout",
     "output_type": "stream",
     "text": [
      "Recommendations for 'Star Wars':\n",
      "2784                                             Impostor\n",
      "8734                                           Titan A.E.\n",
      "2412            Star Wars: Episode I - The Phantom Menace\n",
      "7645       Babylon 5: The Lost Tales - Voices in the Dark\n",
      "4068    Babylon 5: The Legend of the Rangers - To Live...\n",
      "Name: original_title, dtype: object\n"
     ]
    }
   ],
   "source": [
    "print(\"Recommendations for 'Star Wars':\")\n",
    "print(recommend('Star Wars'))"
   ]
  },
  {
   "cell_type": "code",
   "execution_count": 80,
   "id": "5deadac4-be36-4da8-9b83-c88aff8f1ef5",
   "metadata": {},
   "outputs": [
    {
     "name": "stdout",
     "output_type": "stream",
     "text": [
      "Recommendations for 'Insurgent':\n",
      "642                                    Divergent\n",
      "5463     Batman: The Dark Knight Returns, Part 2\n",
      "4400     Batman: The Dark Knight Returns, Part 1\n",
      "10609                                    Sleeper\n",
      "3863                                     Manborg\n",
      "Name: original_title, dtype: object\n"
     ]
    }
   ],
   "source": [
    "print(\"Recommendations for 'Insurgent':\")\n",
    "print(recommend('Insurgent'))"
   ]
  },
  {
   "cell_type": "code",
   "execution_count": null,
   "id": "36c5843d-3547-4c81-8479-ecfc97b11a8a",
   "metadata": {},
   "outputs": [],
   "source": []
  }
 ],
 "metadata": {
  "kernelspec": {
   "display_name": "Python 3 (ipykernel)",
   "language": "python",
   "name": "python3"
  },
  "language_info": {
   "codemirror_mode": {
    "name": "ipython",
    "version": 3
   },
   "file_extension": ".py",
   "mimetype": "text/x-python",
   "name": "python",
   "nbconvert_exporter": "python",
   "pygments_lexer": "ipython3",
   "version": "3.12.8"
  }
 },
 "nbformat": 4,
 "nbformat_minor": 5
}
