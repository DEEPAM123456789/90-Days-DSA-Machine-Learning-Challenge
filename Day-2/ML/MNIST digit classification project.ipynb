{
 "cells": [
  {
   "cell_type": "code",
   "execution_count": 1,
   "id": "cc6b13c3-5012-4e69-92b1-396c3fd63e5c",
   "metadata": {},
   "outputs": [],
   "source": [
    "import torch\n",
    "import torchvision"
   ]
  },
  {
   "cell_type": "code",
   "execution_count": 2,
   "id": "db279cbb-a28e-4278-90e9-9db580222aac",
   "metadata": {},
   "outputs": [
    {
     "data": {
      "text/plain": [
       "'cuda'"
      ]
     },
     "execution_count": 2,
     "metadata": {},
     "output_type": "execute_result"
    }
   ],
   "source": [
    "device = \"cuda\" if torch.cuda.is_available() else 'cpu'\n",
    "device"
   ]
  },
  {
   "cell_type": "code",
   "execution_count": 3,
   "id": "79015451-1637-4e3c-94a2-a0c2f85b0441",
   "metadata": {},
   "outputs": [],
   "source": [
    "from torchvision import datasets"
   ]
  },
  {
   "cell_type": "code",
   "execution_count": 4,
   "id": "67881e77-7e16-4f5a-b69d-52c891670b09",
   "metadata": {},
   "outputs": [],
   "source": [
    "transform = torchvision.transforms.ToTensor()"
   ]
  },
  {
   "cell_type": "code",
   "execution_count": 5,
   "id": "01b3a134-a979-48e4-918f-1323e98f58e5",
   "metadata": {},
   "outputs": [],
   "source": [
    "train_data = datasets.MNIST(root=\"train_data\",\n",
    "                            train=True,\n",
    "                            download=True,\n",
    "                            transform=transform)\n",
    "\n",
    "test_data = datasets.MNIST(root=\"test_data\",\n",
    "                           train=False,\n",
    "                           download=True,\n",
    "                           transform=transform)"
   ]
  },
  {
   "cell_type": "code",
   "execution_count": 6,
   "id": "33e8753e-fe6c-4b96-9e1a-192638a74565",
   "metadata": {},
   "outputs": [
    {
     "data": {
      "text/plain": [
       "(60000, 10000)"
      ]
     },
     "execution_count": 6,
     "metadata": {},
     "output_type": "execute_result"
    }
   ],
   "source": [
    "len(train_data), len(test_data)"
   ]
  },
  {
   "cell_type": "code",
   "execution_count": 7,
   "id": "27f4e968-e47b-45ec-8297-1274bf952da6",
   "metadata": {},
   "outputs": [],
   "source": [
    "img, label = train_data[0]"
   ]
  },
  {
   "cell_type": "code",
   "execution_count": 8,
   "id": "f38fd996-a178-4baf-99d1-5d723cfaad67",
   "metadata": {
    "scrolled": true
   },
   "outputs": [
    {
     "data": {
      "text/plain": [
       "tensor([[[0.0000, 0.0000, 0.0000, 0.0000, 0.0000, 0.0000, 0.0000, 0.0000,\n",
       "          0.0000, 0.0000, 0.0000, 0.0000, 0.0000, 0.0000, 0.0000, 0.0000,\n",
       "          0.0000, 0.0000, 0.0000, 0.0000, 0.0000, 0.0000, 0.0000, 0.0000,\n",
       "          0.0000, 0.0000, 0.0000, 0.0000],\n",
       "         [0.0000, 0.0000, 0.0000, 0.0000, 0.0000, 0.0000, 0.0000, 0.0000,\n",
       "          0.0000, 0.0000, 0.0000, 0.0000, 0.0000, 0.0000, 0.0000, 0.0000,\n",
       "          0.0000, 0.0000, 0.0000, 0.0000, 0.0000, 0.0000, 0.0000, 0.0000,\n",
       "          0.0000, 0.0000, 0.0000, 0.0000],\n",
       "         [0.0000, 0.0000, 0.0000, 0.0000, 0.0000, 0.0000, 0.0000, 0.0000,\n",
       "          0.0000, 0.0000, 0.0000, 0.0000, 0.0000, 0.0000, 0.0000, 0.0000,\n",
       "          0.0000, 0.0000, 0.0000, 0.0000, 0.0000, 0.0000, 0.0000, 0.0000,\n",
       "          0.0000, 0.0000, 0.0000, 0.0000],\n",
       "         [0.0000, 0.0000, 0.0000, 0.0000, 0.0000, 0.0000, 0.0000, 0.0000,\n",
       "          0.0000, 0.0000, 0.0000, 0.0000, 0.0000, 0.0000, 0.0000, 0.0000,\n",
       "          0.0000, 0.0000, 0.0000, 0.0000, 0.0000, 0.0000, 0.0000, 0.0000,\n",
       "          0.0000, 0.0000, 0.0000, 0.0000],\n",
       "         [0.0000, 0.0000, 0.0000, 0.0000, 0.0000, 0.0000, 0.0000, 0.0000,\n",
       "          0.0000, 0.0000, 0.0000, 0.0000, 0.0000, 0.0000, 0.0000, 0.0000,\n",
       "          0.0000, 0.0000, 0.0000, 0.0000, 0.0000, 0.0000, 0.0000, 0.0000,\n",
       "          0.0000, 0.0000, 0.0000, 0.0000],\n",
       "         [0.0000, 0.0000, 0.0000, 0.0000, 0.0000, 0.0000, 0.0000, 0.0000,\n",
       "          0.0000, 0.0000, 0.0000, 0.0000, 0.0118, 0.0706, 0.0706, 0.0706,\n",
       "          0.4941, 0.5333, 0.6863, 0.1020, 0.6510, 1.0000, 0.9686, 0.4980,\n",
       "          0.0000, 0.0000, 0.0000, 0.0000],\n",
       "         [0.0000, 0.0000, 0.0000, 0.0000, 0.0000, 0.0000, 0.0000, 0.0000,\n",
       "          0.1176, 0.1412, 0.3686, 0.6039, 0.6667, 0.9922, 0.9922, 0.9922,\n",
       "          0.9922, 0.9922, 0.8824, 0.6745, 0.9922, 0.9490, 0.7647, 0.2510,\n",
       "          0.0000, 0.0000, 0.0000, 0.0000],\n",
       "         [0.0000, 0.0000, 0.0000, 0.0000, 0.0000, 0.0000, 0.0000, 0.1922,\n",
       "          0.9333, 0.9922, 0.9922, 0.9922, 0.9922, 0.9922, 0.9922, 0.9922,\n",
       "          0.9922, 0.9843, 0.3647, 0.3216, 0.3216, 0.2196, 0.1529, 0.0000,\n",
       "          0.0000, 0.0000, 0.0000, 0.0000],\n",
       "         [0.0000, 0.0000, 0.0000, 0.0000, 0.0000, 0.0000, 0.0000, 0.0706,\n",
       "          0.8588, 0.9922, 0.9922, 0.9922, 0.9922, 0.9922, 0.7765, 0.7137,\n",
       "          0.9686, 0.9451, 0.0000, 0.0000, 0.0000, 0.0000, 0.0000, 0.0000,\n",
       "          0.0000, 0.0000, 0.0000, 0.0000],\n",
       "         [0.0000, 0.0000, 0.0000, 0.0000, 0.0000, 0.0000, 0.0000, 0.0000,\n",
       "          0.3137, 0.6118, 0.4196, 0.9922, 0.9922, 0.8039, 0.0431, 0.0000,\n",
       "          0.1686, 0.6039, 0.0000, 0.0000, 0.0000, 0.0000, 0.0000, 0.0000,\n",
       "          0.0000, 0.0000, 0.0000, 0.0000],\n",
       "         [0.0000, 0.0000, 0.0000, 0.0000, 0.0000, 0.0000, 0.0000, 0.0000,\n",
       "          0.0000, 0.0549, 0.0039, 0.6039, 0.9922, 0.3529, 0.0000, 0.0000,\n",
       "          0.0000, 0.0000, 0.0000, 0.0000, 0.0000, 0.0000, 0.0000, 0.0000,\n",
       "          0.0000, 0.0000, 0.0000, 0.0000],\n",
       "         [0.0000, 0.0000, 0.0000, 0.0000, 0.0000, 0.0000, 0.0000, 0.0000,\n",
       "          0.0000, 0.0000, 0.0000, 0.5451, 0.9922, 0.7451, 0.0078, 0.0000,\n",
       "          0.0000, 0.0000, 0.0000, 0.0000, 0.0000, 0.0000, 0.0000, 0.0000,\n",
       "          0.0000, 0.0000, 0.0000, 0.0000],\n",
       "         [0.0000, 0.0000, 0.0000, 0.0000, 0.0000, 0.0000, 0.0000, 0.0000,\n",
       "          0.0000, 0.0000, 0.0000, 0.0431, 0.7451, 0.9922, 0.2745, 0.0000,\n",
       "          0.0000, 0.0000, 0.0000, 0.0000, 0.0000, 0.0000, 0.0000, 0.0000,\n",
       "          0.0000, 0.0000, 0.0000, 0.0000],\n",
       "         [0.0000, 0.0000, 0.0000, 0.0000, 0.0000, 0.0000, 0.0000, 0.0000,\n",
       "          0.0000, 0.0000, 0.0000, 0.0000, 0.1373, 0.9451, 0.8824, 0.6275,\n",
       "          0.4235, 0.0039, 0.0000, 0.0000, 0.0000, 0.0000, 0.0000, 0.0000,\n",
       "          0.0000, 0.0000, 0.0000, 0.0000],\n",
       "         [0.0000, 0.0000, 0.0000, 0.0000, 0.0000, 0.0000, 0.0000, 0.0000,\n",
       "          0.0000, 0.0000, 0.0000, 0.0000, 0.0000, 0.3176, 0.9412, 0.9922,\n",
       "          0.9922, 0.4667, 0.0980, 0.0000, 0.0000, 0.0000, 0.0000, 0.0000,\n",
       "          0.0000, 0.0000, 0.0000, 0.0000],\n",
       "         [0.0000, 0.0000, 0.0000, 0.0000, 0.0000, 0.0000, 0.0000, 0.0000,\n",
       "          0.0000, 0.0000, 0.0000, 0.0000, 0.0000, 0.0000, 0.1765, 0.7294,\n",
       "          0.9922, 0.9922, 0.5882, 0.1059, 0.0000, 0.0000, 0.0000, 0.0000,\n",
       "          0.0000, 0.0000, 0.0000, 0.0000],\n",
       "         [0.0000, 0.0000, 0.0000, 0.0000, 0.0000, 0.0000, 0.0000, 0.0000,\n",
       "          0.0000, 0.0000, 0.0000, 0.0000, 0.0000, 0.0000, 0.0000, 0.0627,\n",
       "          0.3647, 0.9882, 0.9922, 0.7333, 0.0000, 0.0000, 0.0000, 0.0000,\n",
       "          0.0000, 0.0000, 0.0000, 0.0000],\n",
       "         [0.0000, 0.0000, 0.0000, 0.0000, 0.0000, 0.0000, 0.0000, 0.0000,\n",
       "          0.0000, 0.0000, 0.0000, 0.0000, 0.0000, 0.0000, 0.0000, 0.0000,\n",
       "          0.0000, 0.9765, 0.9922, 0.9765, 0.2510, 0.0000, 0.0000, 0.0000,\n",
       "          0.0000, 0.0000, 0.0000, 0.0000],\n",
       "         [0.0000, 0.0000, 0.0000, 0.0000, 0.0000, 0.0000, 0.0000, 0.0000,\n",
       "          0.0000, 0.0000, 0.0000, 0.0000, 0.0000, 0.0000, 0.1804, 0.5098,\n",
       "          0.7176, 0.9922, 0.9922, 0.8118, 0.0078, 0.0000, 0.0000, 0.0000,\n",
       "          0.0000, 0.0000, 0.0000, 0.0000],\n",
       "         [0.0000, 0.0000, 0.0000, 0.0000, 0.0000, 0.0000, 0.0000, 0.0000,\n",
       "          0.0000, 0.0000, 0.0000, 0.0000, 0.1529, 0.5804, 0.8980, 0.9922,\n",
       "          0.9922, 0.9922, 0.9804, 0.7137, 0.0000, 0.0000, 0.0000, 0.0000,\n",
       "          0.0000, 0.0000, 0.0000, 0.0000],\n",
       "         [0.0000, 0.0000, 0.0000, 0.0000, 0.0000, 0.0000, 0.0000, 0.0000,\n",
       "          0.0000, 0.0000, 0.0941, 0.4471, 0.8667, 0.9922, 0.9922, 0.9922,\n",
       "          0.9922, 0.7882, 0.3059, 0.0000, 0.0000, 0.0000, 0.0000, 0.0000,\n",
       "          0.0000, 0.0000, 0.0000, 0.0000],\n",
       "         [0.0000, 0.0000, 0.0000, 0.0000, 0.0000, 0.0000, 0.0000, 0.0000,\n",
       "          0.0902, 0.2588, 0.8353, 0.9922, 0.9922, 0.9922, 0.9922, 0.7765,\n",
       "          0.3176, 0.0078, 0.0000, 0.0000, 0.0000, 0.0000, 0.0000, 0.0000,\n",
       "          0.0000, 0.0000, 0.0000, 0.0000],\n",
       "         [0.0000, 0.0000, 0.0000, 0.0000, 0.0000, 0.0000, 0.0706, 0.6706,\n",
       "          0.8588, 0.9922, 0.9922, 0.9922, 0.9922, 0.7647, 0.3137, 0.0353,\n",
       "          0.0000, 0.0000, 0.0000, 0.0000, 0.0000, 0.0000, 0.0000, 0.0000,\n",
       "          0.0000, 0.0000, 0.0000, 0.0000],\n",
       "         [0.0000, 0.0000, 0.0000, 0.0000, 0.2157, 0.6745, 0.8863, 0.9922,\n",
       "          0.9922, 0.9922, 0.9922, 0.9569, 0.5216, 0.0431, 0.0000, 0.0000,\n",
       "          0.0000, 0.0000, 0.0000, 0.0000, 0.0000, 0.0000, 0.0000, 0.0000,\n",
       "          0.0000, 0.0000, 0.0000, 0.0000],\n",
       "         [0.0000, 0.0000, 0.0000, 0.0000, 0.5333, 0.9922, 0.9922, 0.9922,\n",
       "          0.8314, 0.5294, 0.5176, 0.0627, 0.0000, 0.0000, 0.0000, 0.0000,\n",
       "          0.0000, 0.0000, 0.0000, 0.0000, 0.0000, 0.0000, 0.0000, 0.0000,\n",
       "          0.0000, 0.0000, 0.0000, 0.0000],\n",
       "         [0.0000, 0.0000, 0.0000, 0.0000, 0.0000, 0.0000, 0.0000, 0.0000,\n",
       "          0.0000, 0.0000, 0.0000, 0.0000, 0.0000, 0.0000, 0.0000, 0.0000,\n",
       "          0.0000, 0.0000, 0.0000, 0.0000, 0.0000, 0.0000, 0.0000, 0.0000,\n",
       "          0.0000, 0.0000, 0.0000, 0.0000],\n",
       "         [0.0000, 0.0000, 0.0000, 0.0000, 0.0000, 0.0000, 0.0000, 0.0000,\n",
       "          0.0000, 0.0000, 0.0000, 0.0000, 0.0000, 0.0000, 0.0000, 0.0000,\n",
       "          0.0000, 0.0000, 0.0000, 0.0000, 0.0000, 0.0000, 0.0000, 0.0000,\n",
       "          0.0000, 0.0000, 0.0000, 0.0000],\n",
       "         [0.0000, 0.0000, 0.0000, 0.0000, 0.0000, 0.0000, 0.0000, 0.0000,\n",
       "          0.0000, 0.0000, 0.0000, 0.0000, 0.0000, 0.0000, 0.0000, 0.0000,\n",
       "          0.0000, 0.0000, 0.0000, 0.0000, 0.0000, 0.0000, 0.0000, 0.0000,\n",
       "          0.0000, 0.0000, 0.0000, 0.0000]]])"
      ]
     },
     "execution_count": 8,
     "metadata": {},
     "output_type": "execute_result"
    }
   ],
   "source": [
    "img"
   ]
  },
  {
   "cell_type": "code",
   "execution_count": 9,
   "id": "e3b3c196-3dbb-4502-bdf1-f2f30e097156",
   "metadata": {},
   "outputs": [
    {
     "data": {
      "text/plain": [
       "5"
      ]
     },
     "execution_count": 9,
     "metadata": {},
     "output_type": "execute_result"
    }
   ],
   "source": [
    "label"
   ]
  },
  {
   "cell_type": "code",
   "execution_count": 10,
   "id": "2fe1d77c-6b8f-4f08-a448-e348a972b893",
   "metadata": {},
   "outputs": [
    {
     "data": {
      "text/plain": [
       "torch.Size([1, 28, 28])"
      ]
     },
     "execution_count": 10,
     "metadata": {},
     "output_type": "execute_result"
    }
   ],
   "source": [
    "img.shape"
   ]
  },
  {
   "cell_type": "code",
   "execution_count": 11,
   "id": "6b6d16d1-b07a-4a39-b43e-17ff72d99bdb",
   "metadata": {},
   "outputs": [
    {
     "data": {
      "image/png": "[encoded data removed]",
      "text/plain": [
       "<Figure size 640x480 with 1 Axes>"
      ]
     },
     "metadata": {},
     "output_type": "display_data"
    }
   ],
   "source": [
    "import matplotlib.pyplot as plt\n",
    "\n",
    "permuted_image = img.permute(1,2,0)\n",
    "plt.imshow(permuted_image);"
   ]
  },
  {
   "cell_type": "code",
   "execution_count": 12,
   "id": "79483259-92b2-4b3c-a8e1-ed01d1f7f362",
   "metadata": {},
   "outputs": [
    {
     "data": {
      "image/png": "[encoded data removed]",
      "text/plain": [
       "<Figure size 1000x500 with 6 Axes>"
      ]
     },
     "metadata": {},
     "output_type": "display_data"
    }
   ],
   "source": [
    "fig, axes = plt.subplots(nrows=1, ncols=6, figsize=(10,5))\n",
    "\n",
    "for i in range(6):\n",
    "    img, label = train_data[i]\n",
    "    axes[i].imshow(img.squeeze())\n",
    "    axes[i].set_title(f\"Label: {label}\")\n",
    "    axes[i].axis(\"off\")\n",
    "\n",
    "plt.tight_layout()\n",
    "plt.show()"
   ]
  },
  {
   "cell_type": "code",
   "execution_count": 13,
   "id": "8459d90c-7fca-4f37-9035-089100595196",
   "metadata": {},
   "outputs": [
    {
     "data": {
      "image/png": "[encoded data removed]",
      "text/plain": [
       "<Figure size 1000x500 with 9 Axes>"
      ]
     },
     "metadata": {},
     "output_type": "display_data"
    }
   ],
   "source": [
    "fig, axes = plt.subplots(nrows=3, ncols= 3, figsize=(10,5))\n",
    "\n",
    "for i, ax in enumerate(axes.flat):\n",
    "    img, label = train_data[i]\n",
    "    ax.imshow(img.squeeze())\n",
    "    ax.set_title(f\"Label:{label}\")\n",
    "    ax.axis(\"off\")\n",
    "\n",
    "plt.tight_layout()\n",
    "plt.show()"
   ]
  },
  {
   "cell_type": "code",
   "execution_count": 14,
   "id": "7cda6ba7-2748-42a2-b32f-09a17065cce2",
   "metadata": {},
   "outputs": [],
   "source": [
    "from torch.utils.data import DataLoader\n",
    "\n",
    "train_dataloader = DataLoader(train_data, shuffle=True, batch_size=32)\n",
    "test_dataloader = DataLoader(test_data, batch_size=32)"
   ]
  },
  {
   "cell_type": "code",
   "execution_count": 15,
   "id": "82f2ae2b-45b4-4cac-aea1-f06efe6c3fa9",
   "metadata": {},
   "outputs": [
    {
     "data": {
      "text/plain": [
       "(1875, 313)"
      ]
     },
     "execution_count": 15,
     "metadata": {},
     "output_type": "execute_result"
    }
   ],
   "source": [
    "len(train_dataloader), len(test_dataloader)"
   ]
  },
  {
   "cell_type": "code",
   "execution_count": 16,
   "id": "f846eb47-3214-492c-abbd-53f3af6b8f4e",
   "metadata": {},
   "outputs": [
    {
     "data": {
      "text/plain": [
       "(torch.Size([32, 1, 28, 28]), torch.Size([32]))"
      ]
     },
     "execution_count": 16,
     "metadata": {},
     "output_type": "execute_result"
    }
   ],
   "source": [
    "img, label = next(iter(train_dataloader))\n",
    "\n",
    "img.shape, label.shape"
   ]
  },
  {
   "cell_type": "code",
   "execution_count": 17,
   "id": "51132063-98f2-4bce-942f-82c98ba7d4db",
   "metadata": {},
   "outputs": [
    {
     "data": {
      "text/plain": [
       "(torch.Size([32, 1, 28, 28]), torch.Size([32]))"
      ]
     },
     "execution_count": 17,
     "metadata": {},
     "output_type": "execute_result"
    }
   ],
   "source": [
    "for batch in train_dataloader:\n",
    "    images, labels = batch\n",
    "\n",
    "images.shape, label.shape"
   ]
  },
  {
   "cell_type": "code",
   "execution_count": 18,
   "id": "aa5ff193-3eac-49ca-b138-25f984d9b7ce",
   "metadata": {},
   "outputs": [],
   "source": [
    "from torch import nn"
   ]
  },
  {
   "cell_type": "code",
   "execution_count": 59,
   "id": "13ad4eae-817a-4dca-97b0-e91b31f379c6",
   "metadata": {},
   "outputs": [],
   "source": [
    "class MNISTModel(nn.Module):\n",
    "\n",
    "    def __init__ (self,\n",
    "                  input_shape:int,\n",
    "                  hidden_units:int,\n",
    "                  output_shape:int):\n",
    "        super().__init__()\n",
    "        self.layer_stack = nn.Sequential(\n",
    "            nn.Flatten(),\n",
    "            nn.Linear(in_features=input_shape,\n",
    "                      out_features=hidden_units),\n",
    "            nn.ReLU(),\n",
    "            nn.Linear(in_features=hidden_units,\n",
    "                      out_features=output_shape)\n",
    "        )\n",
    "\n",
    "    def forward(self, x):\n",
    "        return self.layer_stack(x)"
   ]
  },
  {
   "cell_type": "code",
   "execution_count": 60,
   "id": "8d5de6c8-e13a-4906-a8be-0ac80ae8c204",
   "metadata": {},
   "outputs": [],
   "source": [
    "model = MNISTModel(784, 10, 10).to(device)"
   ]
  },
  {
   "cell_type": "code",
   "execution_count": 61,
   "id": "fd7b4397-7546-4cbf-b528-2e946b203e64",
   "metadata": {},
   "outputs": [
    {
     "data": {
      "text/plain": [
       "OrderedDict([('layer_stack.1.weight',\n",
       "              tensor([[ 0.0323, -0.0303,  0.0276,  ...,  0.0069,  0.0097,  0.0137],\n",
       "                      [ 0.0196, -0.0081,  0.0198,  ..., -0.0214, -0.0112, -0.0170],\n",
       "                      [-0.0243,  0.0281, -0.0319,  ..., -0.0091, -0.0184, -0.0075],\n",
       "                      ...,\n",
       "                      [ 0.0303,  0.0118,  0.0150,  ..., -0.0141, -0.0112,  0.0124],\n",
       "                      [ 0.0062, -0.0131,  0.0070,  ...,  0.0321,  0.0080,  0.0258],\n",
       "                      [ 0.0155,  0.0056, -0.0105,  ..., -0.0013,  0.0105, -0.0211]],\n",
       "                     device='cuda:0')),\n",
       "             ('layer_stack.1.bias',\n",
       "              tensor([ 0.0281,  0.0169,  0.0215,  0.0165, -0.0344, -0.0065,  0.0186,  0.0177,\n",
       "                      -0.0325, -0.0202], device='cuda:0')),\n",
       "             ('layer_stack.3.weight',\n",
       "              tensor([[ 0.2305, -0.2618,  0.2397, -0.0610,  0.0232,  0.1542,  0.0851, -0.2027,\n",
       "                        0.1030, -0.2715],\n",
       "                      [-0.1596, -0.0555, -0.0633,  0.2302, -0.1726,  0.2654,  0.1473,  0.1029,\n",
       "                        0.2252, -0.2160],\n",
       "                      [-0.2725,  0.0118,  0.1559,  0.1596,  0.0132,  0.3024,  0.1124,  0.1366,\n",
       "                       -0.1533,  0.0965],\n",
       "                      [-0.1184, -0.2555, -0.2057, -0.1909, -0.0477, -0.1324,  0.2905,  0.1307,\n",
       "                       -0.2629,  0.0133],\n",
       "                      [ 0.2727, -0.0127,  0.0513,  0.0863, -0.1043, -0.2047, -0.1185, -0.0825,\n",
       "                        0.2488, -0.2571],\n",
       "                      [ 0.0425, -0.1209, -0.0336, -0.0281, -0.1227,  0.0730,  0.0747, -0.1816,\n",
       "                        0.1943,  0.2853],\n",
       "                      [-0.1310,  0.0645, -0.1171,  0.2168, -0.0245, -0.2820,  0.0736,  0.2621,\n",
       "                        0.0012, -0.0810],\n",
       "                      [-0.0087,  0.1791,  0.2712, -0.0791,  0.1685,  0.1762,  0.2825,  0.2266,\n",
       "                       -0.2612, -0.2613],\n",
       "                      [-0.2624,  0.1987, -0.1606,  0.1747, -0.0471, -0.1303,  0.2380, -0.0611,\n",
       "                       -0.1707, -0.0485],\n",
       "                      [-0.2011, -0.3045, -0.0554, -0.0178, -0.1802,  0.2803, -0.0706, -0.0803,\n",
       "                        0.2506,  0.0352]], device='cuda:0')),\n",
       "             ('layer_stack.3.bias',\n",
       "              tensor([-0.0744,  0.0727, -0.2857,  0.3109,  0.0834,  0.1112, -0.2332,  0.2418,\n",
       "                      -0.2599, -0.1099], device='cuda:0'))])"
      ]
     },
     "execution_count": 61,
     "metadata": {},
     "output_type": "execute_result"
    }
   ],
   "source": [
    "model.state_dict()"
   ]
  },
  {
   "cell_type": "code",
   "execution_count": 62,
   "id": "4215e1ef-07e9-4e0e-94a7-dcb2cce0c9bd",
   "metadata": {},
   "outputs": [
    {
     "data": {
      "text/plain": [
       "MNISTModel(\n",
       "  (layer_stack): Sequential(\n",
       "    (0): Flatten(start_dim=1, end_dim=-1)\n",
       "    (1): Linear(in_features=784, out_features=10, bias=True)\n",
       "    (2): ReLU()\n",
       "    (3): Linear(in_features=10, out_features=10, bias=True)\n",
       "  )\n",
       ")"
      ]
     },
     "execution_count": 62,
     "metadata": {},
     "output_type": "execute_result"
    }
   ],
   "source": [
    "model"
   ]
  },
  {
   "cell_type": "code",
   "execution_count": 69,
   "id": "60770c47-b9a1-4d96-9faf-f0bc154e6308",
   "metadata": {},
   "outputs": [],
   "source": [
    "epochs = 5\n",
    "learning_rate = 0.01"
   ]
  },
  {
   "cell_type": "code",
   "execution_count": 70,
   "id": "381b4548-0bfc-4c96-b61a-cd9b1de0a735",
   "metadata": {},
   "outputs": [],
   "source": [
    "loss_fn = nn.CrossEntropyLoss()\n",
    "\n",
    "optimizer = torch.optim.Adam(params=model.parameters(),\n",
    "                             lr=learning_rate)"
   ]
  },
  {
   "cell_type": "code",
   "execution_count": 71,
   "id": "ddf3de64-279e-4c66-93f2-2d9e143dd3ea",
   "metadata": {},
   "outputs": [
    {
     "data": {
      "text/plain": [
       "tensor([[ -4.0539, -10.7647,  -8.4207,  -3.0348,  -3.2927,   3.1639,   2.9642,\n",
       "          -2.8150,  -4.5751,  -2.2661]], device='cuda:0',\n",
       "       grad_fn=<AddmmBackward0>)"
      ]
     },
     "execution_count": 71,
     "metadata": {},
     "output_type": "execute_result"
    }
   ],
   "source": [
    "rand_img_tensor = torch.randn(1, 1, 28, 28).to(device)\n",
    "model(rand_img_tensor)"
   ]
  },
  {
   "cell_type": "code",
   "execution_count": 72,
   "id": "f93a6bb7-603b-4421-b090-f418a01f5861",
   "metadata": {
    "scrolled": true
   },
   "outputs": [
    {
     "data": {
      "text/plain": [
       "tensor([[[[-2.3169e+00, -2.1680e-01, -1.3847e+00, -8.7124e-01, -2.2337e-01,\n",
       "            1.7174e+00,  3.1888e-01, -4.2452e-01, -8.2855e-01,  3.3090e-01,\n",
       "           -1.5576e+00,  9.9564e-01, -8.7979e-01, -6.0114e-01, -1.2742e+00,\n",
       "            2.1228e+00, -1.0892e+00, -3.5529e-01, -9.1382e-01, -6.5814e-01,\n",
       "            7.8024e-02,  5.2581e-01, -4.8799e-01,  1.1914e+00, -1.3864e+00,\n",
       "           -1.2862e+00, -1.4032e+00,  3.6004e-02],\n",
       "          [-6.3477e-02,  6.7561e-01, -9.7807e-02,  1.8446e+00,  1.3852e+00,\n",
       "           -4.4585e-01,  1.4451e+00,  8.5641e-01,  2.2181e+00,  5.2317e-01,\n",
       "            3.4665e-01, -1.9733e-01, -4.5275e-01, -7.7178e-01, -1.7219e-01,\n",
       "            5.2379e-01,  5.6622e-02,  4.2630e-01,  5.7501e-01, -6.4172e-01,\n",
       "            3.3832e-01,  1.6992e+00,  1.0868e-02, -3.3874e-01, -1.3407e+00,\n",
       "           -5.8537e-01,  5.3619e-01,  5.2462e-01],\n",
       "          [-1.4692e+00,  1.4332e+00,  7.4395e-01, -4.8158e-01, -1.0495e+00,\n",
       "            6.0390e-01, -1.7223e+00, -8.2777e-01, -4.9765e-01,  4.7466e-01,\n",
       "           -2.5095e+00,  4.8800e-01,  7.8459e-01,  2.8647e-02,  6.4076e-01,\n",
       "            5.8325e-01,  2.1906e-01,  5.5263e-01, -1.8527e-01,  7.5276e-01,\n",
       "            4.0476e-01,  1.7847e-01,  2.6491e-01,  1.2732e+00, -8.9046e-01,\n",
       "            4.0981e-01, -1.4570e+00, -1.0234e-01],\n",
       "          [-5.9915e-01,  4.7706e-01,  7.2618e-01,  9.1152e-02,  4.0356e+00,\n",
       "            1.2795e+00, -1.2685e-02,  2.4084e-01,  1.3254e-01,  7.6424e-01,\n",
       "            1.0950e+00,  3.3989e-01, -5.7968e-01, -1.6912e-01,  1.9312e+00,\n",
       "            1.0119e+00, -1.4364e+00, -1.1299e+00, -1.3603e-01,  1.6354e+00,\n",
       "            6.7934e-01,  4.4053e-01,  1.1415e+00,  1.8565e-02, -1.8058e+00,\n",
       "            9.2543e-01, -3.7534e-01,  1.0331e+00],\n",
       "          [-1.4241e+00, -1.1633e-01, -9.7267e-01,  9.5846e-01,  1.6192e+00,\n",
       "            1.4506e+00,  2.6948e-01, -2.1038e-01, -1.4391e+00,  5.2138e-01,\n",
       "            3.4875e-01,  9.6759e-01, -4.6569e-01,  1.6048e+00, -2.4801e+00,\n",
       "           -4.1754e-01, -1.9334e-01,  6.5264e-01, -1.9006e+00,  2.2858e-01,\n",
       "            2.4859e-02, -3.4595e-01,  2.8683e-01, -7.3084e-01,  1.4611e+00,\n",
       "           -3.0975e-01, -1.6022e+00,  1.3529e+00],\n",
       "          [ 1.2888e+00,  5.2295e-02, -1.5469e+00,  7.5671e-01, -5.8548e-01,\n",
       "           -3.9000e-01,  3.5818e-02,  1.2059e-01, -8.0566e-01, -2.0758e-01,\n",
       "           -9.3195e-01, -1.5910e+00, -3.7500e-01,  8.0325e-01, -5.1877e-01,\n",
       "           -1.5013e+00, -1.9267e+00,  1.2785e-01,  1.0229e+00, -5.5580e-01,\n",
       "           -7.4994e-01, -5.9219e-01,  1.7744e+00, -9.2155e-01,  9.6245e-01,\n",
       "           -3.3702e-01, -1.1753e+00,  3.5806e-01],\n",
       "          [-7.0607e-01, -7.1691e-01,  5.2606e-01,  2.1120e+00, -5.2076e-01,\n",
       "           -9.3201e-01,  1.8516e-01,  1.0687e+00, -5.7785e-01,  3.2546e-01,\n",
       "           -8.1463e-01, -1.0212e+00, -4.9492e-01, -5.9225e-01,  1.5432e-01,\n",
       "            4.4077e-01,  3.1253e-01, -3.3502e-02, -3.9800e-01,  1.0805e+00,\n",
       "           -1.7809e+00,  1.5080e+00,  3.0943e-01, -5.0031e-01,  6.6301e-01,\n",
       "            7.0473e-01, -4.5051e-03,  1.6668e+00],\n",
       "          [ 1.5392e-01, -1.0603e+00, -5.7266e-01,  8.3568e-02,  4.4398e-01,\n",
       "           -7.2403e-01, -7.1988e-02, -9.0609e-01, -2.0487e+00, -1.0811e+00,\n",
       "            1.7623e-02,  7.8226e-02,  1.7869e-01, -1.2931e-01, -9.2913e-01,\n",
       "            2.7619e-01, -5.3888e-01,  4.6258e-01, -8.7189e-01, -2.7118e-02,\n",
       "            3.4159e-01, -2.2136e-01,  1.2554e+00, -7.1496e-01,  8.5392e-01,\n",
       "            5.1299e-01,  5.3973e-01,  5.6551e-01],\n",
       "          [ 5.8672e-01, -1.8847e-02, -6.8548e-01,  5.6356e-01, -1.5072e+00,\n",
       "           -1.6107e+00, -1.4790e+00,  4.3227e-01, -7.1288e-01,  2.1962e-01,\n",
       "           -1.5988e+00, -1.0913e-01,  7.1520e-01,  3.9139e-02,  1.3059e+00,\n",
       "            2.4659e-01,  2.6911e-01,  8.5404e-02, -1.3793e+00,  6.2580e-01,\n",
       "           -2.5850e+00, -2.4000e-02, -1.2219e-01, -7.4700e-01, -1.6191e+00,\n",
       "            1.2588e-03,  1.1930e+00,  1.9373e+00],\n",
       "          [ 7.2871e-01,  9.8089e-01,  4.1459e-01,  1.1566e+00, -8.8018e-02,\n",
       "            3.3700e-01,  9.7329e-01, -1.0151e+00, -5.4192e-01, -4.4102e-01,\n",
       "           -3.1362e-01, -1.2925e-01, -2.0634e-01,  2.1698e+00,  2.0207e+00,\n",
       "            2.5392e-01,  9.3644e-01,  7.1224e-01, -3.1766e-02,  1.0164e-01,\n",
       "            8.7128e-01, -9.5641e-02,  4.0380e-01, -7.1398e-01,  8.3373e-01,\n",
       "           -9.5855e-01,  4.5363e-01,  1.2461e+00],\n",
       "          [-1.8815e-01, -7.7115e-01,  1.7989e-01, -2.1268e+00, -1.3408e-01,\n",
       "           -1.0408e+00, -7.6472e-01, -5.5283e-02,  5.7161e-01,  1.3596e+00,\n",
       "            4.3344e-01, -7.1719e-01,  1.0554e+00, -1.4534e+00,  4.6515e-01,\n",
       "            3.7139e-01,  8.8002e-01,  5.6080e-02,  3.7818e-01,  7.0511e-01,\n",
       "           -1.7237e+00, -8.4348e-01,  4.3514e-01,  2.6589e-01,  3.6716e-02,\n",
       "            4.9340e-01,  8.8538e-01,  1.8244e-01],\n",
       "          [ 7.8638e-01, -5.7920e-02,  5.6667e-01, -7.0976e-01,  1.6617e+00,\n",
       "            1.7512e-01,  6.0841e-01,  1.6309e+00, -8.4723e-02,  1.0844e+00,\n",
       "            9.4777e-01, -6.7663e-01,  3.9451e-01,  1.7060e+00, -7.9394e-01,\n",
       "            3.7523e-01,  8.7910e-02, -1.2415e+00, -3.2025e-01, -8.4438e-01,\n",
       "            1.3695e+00, -2.5189e-01,  1.9003e+00,  1.6951e+00,  2.8090e-02,\n",
       "           -1.7537e-01, -1.7735e+00, -7.0464e-01],\n",
       "          [ 9.1652e-01, -2.8006e-02, -2.1844e-01,  1.6630e-01,  2.1442e+00,\n",
       "            1.7046e+00,  3.4590e-01,  6.4248e-01,  9.9346e-01,  5.0667e-01,\n",
       "           -1.3969e-01, -1.1808e+00, -1.2829e+00,  4.4849e-01, -5.9074e-01,\n",
       "            8.5406e-01, -1.2201e+00, -5.8542e-01,  6.6637e-01, -7.4265e-02,\n",
       "           -2.0960e-01,  1.6632e-01,  1.4703e+00, -9.3909e-01,  9.1429e-01,\n",
       "            2.1882e+00, -9.8515e-01, -2.4885e+00],\n",
       "          [-3.3132e-01,  8.4358e-01,  9.8745e-01, -3.3197e-01,  1.4200e+00,\n",
       "           -5.4650e-02,  2.4700e-02, -1.0641e+00, -7.6019e-01, -4.0751e-01,\n",
       "            9.6236e-01, -1.4264e-01,  2.6968e-01,  7.8999e-01,  9.4461e-01,\n",
       "           -1.5824e+00,  9.8713e-01,  1.1457e+00, -1.4181e-01, -2.7634e-01,\n",
       "            1.3917e+00,  2.2285e-01,  6.8388e-01, -1.3246e+00, -5.1608e-01,\n",
       "            6.0018e-01, -4.7022e-01, -6.0864e-01],\n",
       "          [ 1.3947e+00, -7.3959e-01, -4.8333e-01, -7.4029e-01,  3.1428e-01,\n",
       "            1.4156e-01,  1.0348e+00, -6.2644e-01, -1.3271e+00, -9.9475e-01,\n",
       "           -4.9400e-01,  1.1366e+00, -4.6184e-01,  1.4200e+00,  8.4852e-01,\n",
       "           -4.7891e-02,  9.4907e-01, -3.9834e-01,  6.8990e-01, -1.3129e+00,\n",
       "            3.7804e-02, -1.1702e+00, -1.0319e-01,  1.1895e+00, -3.6152e-01,\n",
       "           -1.6917e+00, -1.3839e+00,  4.8687e-01],\n",
       "          [-1.0020e+00,  3.2949e-02, -4.2920e-01, -9.8180e-01, -3.9991e-01,\n",
       "           -1.3291e+00,  1.5914e+00, -1.2081e-01, -4.8302e-01,  1.1330e-01,\n",
       "            7.7151e-02, -9.2281e-01,  1.4194e+00,  1.5193e-01,  1.0966e+00,\n",
       "           -6.8369e-01,  6.6043e-02, -7.7380e-04,  1.6206e-01,  1.1960e+00,\n",
       "           -4.8355e-01, -5.4189e-01, -1.0597e+00,  3.0573e-01,  4.1506e-01,\n",
       "           -7.1741e-01,  2.8340e+00,  1.9535e+00],\n",
       "          [ 6.0855e-02, -1.1774e+00,  1.6217e+00,  8.5127e-01, -4.0047e-01,\n",
       "           -6.0883e-01, -5.0810e-01, -6.1849e-01, -9.1013e-01,  6.8631e-01,\n",
       "           -4.5031e-01, -7.2966e-02, -5.4795e-01, -1.1426e+00, -4.4875e-01,\n",
       "           -3.0454e-02, -9.6068e-01,  8.3139e-01,  1.1799e+00, -3.3143e-01,\n",
       "            6.4950e-01,  9.4959e-02, -7.5259e-01, -6.4723e-01, -5.6830e-01,\n",
       "           -8.5015e-01, -9.6385e-01, -2.5668e+00],\n",
       "          [ 7.0961e-01,  8.1984e-01,  6.2145e-01,  4.2319e-01,  8.9462e-01,\n",
       "           -2.8780e-01, -1.3638e+00,  1.9296e-01, -6.1033e-01,  1.6323e-01,\n",
       "            1.5102e+00,  2.1230e-01, -8.7040e-01,  3.0508e-02,  5.2169e-01,\n",
       "           -4.6387e-01,  1.8238e-01, -3.8666e-01, -1.7907e+00,  9.3293e-02,\n",
       "            7.8932e-01, -1.3341e+00,  1.3439e+00, -1.2922e+00,  7.6624e-01,\n",
       "            6.4540e-01,  3.5332e-01, -2.6475e+00],\n",
       "          [-1.3171e+00,  1.5819e-01,  2.5403e-01, -1.7906e-01,  1.1993e+00,\n",
       "           -4.2922e-01,  1.0103e+00,  6.1104e-01, -7.5755e-01, -7.5627e-02,\n",
       "           -1.7376e+00, -1.2535e-01, -1.3658e+00,  1.1117e+00, -6.2280e-01,\n",
       "           -7.8918e-01,  6.4150e-01, -1.3313e+00,  2.0071e+00, -1.2531e+00,\n",
       "            1.1189e+00,  1.7733e+00, -2.0717e+00, -4.1253e-01,  1.4920e+00,\n",
       "            1.3264e-02,  1.8595e+00,  2.6221e+00],\n",
       "          [ 3.6905e-01,  3.8030e-01,  1.9898e-01, -2.3609e-01,  5.8395e-01,\n",
       "            3.3843e+00,  4.7390e-01,  6.5034e-01,  1.1662e+00,  1.6936e-02,\n",
       "            5.3259e-01, -6.0354e-01, -2.0686e+00,  8.6857e-01, -8.0322e-01,\n",
       "           -1.1209e+00,  1.9564e-01, -7.8152e-01, -1.7899e+00, -2.6157e-01,\n",
       "           -8.3618e-01, -3.3326e-01, -4.8010e-01, -1.2872e+00,  7.3888e-01,\n",
       "            3.3895e-02, -3.1229e-01, -2.5418e-01],\n",
       "          [ 8.9667e-01, -2.1818e+00,  6.1277e-02,  8.5261e-02,  7.4813e-01,\n",
       "           -1.6356e-01, -9.0856e-01,  3.1300e-01, -1.2514e+00, -8.3081e-01,\n",
       "            4.9816e-01, -1.2000e+00,  1.2711e-01,  4.4037e-01,  6.3777e-01,\n",
       "            1.5979e-01, -2.8120e-01, -1.0375e+00, -1.8737e+00,  2.3259e+00,\n",
       "           -9.2039e-01,  6.6611e-01, -4.4026e-01, -2.3180e+00, -5.6820e-01,\n",
       "           -8.6795e-02, -8.4834e-01,  1.6489e+00],\n",
       "          [ 1.6006e+00, -7.8589e-02,  4.3105e-01,  3.6835e-01,  2.0425e-01,\n",
       "           -2.6476e-02, -4.1379e-01,  5.1841e-01, -7.0154e-01, -4.3234e-01,\n",
       "            1.4148e-01,  7.1104e-02,  3.6821e-01,  7.0497e-01, -1.0838e+00,\n",
       "           -3.8893e-01,  8.1261e-01,  1.4981e+00,  4.3896e-02,  1.4443e+00,\n",
       "           -1.8611e-01, -7.8841e-01, -1.2787e+00, -3.8427e-02,  1.9138e+00,\n",
       "            3.3784e-01,  1.2506e-01, -7.6215e-01],\n",
       "          [-3.0620e-01,  5.9373e-01,  4.5572e-01,  2.5033e-01, -1.3611e+00,\n",
       "            1.8018e+00, -7.4342e-02, -1.5664e-01,  1.3527e+00,  1.6028e-01,\n",
       "           -4.1456e-01, -6.9024e-01, -2.2996e-01, -2.1723e+00,  8.7683e-02,\n",
       "            1.0938e+00,  7.3201e-02, -2.0952e+00, -9.5362e-01, -9.2473e-02,\n",
       "           -1.0167e+00, -7.6757e-03, -5.1822e-01,  8.3954e-01,  1.0117e+00,\n",
       "           -1.4080e+00,  2.1296e+00, -1.5181e+00],\n",
       "          [ 1.3873e-01, -1.1798e+00, -5.2974e-01,  9.6252e-01,  2.9770e-01,\n",
       "            7.5923e-01, -2.7936e+00, -7.1115e-01,  5.2352e-01, -1.7106e+00,\n",
       "            8.3849e-01, -2.6985e-01, -3.0195e-01,  2.2069e-01,  1.5133e-01,\n",
       "            7.3939e-01,  2.7310e-01,  2.7312e+00,  4.3201e-01, -3.0918e-01,\n",
       "           -2.1314e-01, -8.8802e-01, -1.0874e-01, -4.1890e-01,  1.4384e+00,\n",
       "           -7.0684e-01, -1.2520e+00,  3.0250e+00],\n",
       "          [-7.5318e-01, -5.5455e-02,  3.2203e-01,  4.4606e-01,  1.5230e+00,\n",
       "            1.2805e+00, -1.1616e-01,  1.3705e+00,  1.9674e-01, -4.0626e-01,\n",
       "           -1.3642e+00,  8.2057e-03, -4.0586e-01, -7.1109e-01, -3.4958e-01,\n",
       "            3.7975e-01, -3.8542e-01,  8.1006e-01,  9.5949e-01,  1.0351e-01,\n",
       "            8.2903e-01,  2.0921e+00,  7.9531e-01,  2.7928e-01, -7.9175e-01,\n",
       "            4.7021e-01,  9.0639e-02,  1.7423e+00],\n",
       "          [-1.2660e+00,  3.8916e-01,  3.4288e-01, -1.4591e+00, -8.7439e-01,\n",
       "            2.1726e+00,  2.2524e-01, -7.7245e-02,  9.8569e-01,  1.2783e+00,\n",
       "            2.8815e-01,  8.6905e-01, -1.4740e+00, -3.5021e-01,  4.5902e-01,\n",
       "            5.3093e-01, -1.3615e+00,  1.9562e+00,  1.7685e+00, -9.8580e-01,\n",
       "            8.2447e-01,  1.4659e+00, -1.0087e-03, -8.4943e-01, -1.6594e+00,\n",
       "            3.0629e-01,  1.1820e+00,  3.2603e-01],\n",
       "          [ 1.2103e+00, -1.3310e-01,  8.2437e-01,  7.9835e-01,  1.8890e+00,\n",
       "            5.9346e-01,  6.9654e-02, -1.6034e+00, -1.2594e+00, -2.1307e-01,\n",
       "            3.4436e-01, -3.1016e+00, -1.4587e+00, -1.4318e+00, -6.0713e-01,\n",
       "           -2.5974e-01,  6.4644e-01,  1.3794e-01,  5.2335e-01, -8.2118e-01,\n",
       "           -4.7087e-01,  6.0164e-01, -2.8251e-01,  7.6927e-01, -2.1079e-01,\n",
       "            8.0115e-01,  1.6917e-02,  8.0277e-02],\n",
       "          [ 7.4484e-01,  1.3455e+00,  1.2682e-01, -2.4521e+00,  1.3945e+00,\n",
       "           -1.3005e+00, -7.3467e-01,  4.4657e-02, -1.5211e+00,  3.4784e-01,\n",
       "            7.4018e-01,  1.4162e+00, -5.3466e-01, -1.4576e-01,  9.2130e-01,\n",
       "            5.2824e-01, -8.2284e-03, -1.4493e+00, -6.0518e-01, -1.7925e-01,\n",
       "           -2.6448e-01, -2.9836e+00, -4.1460e-01,  1.4559e+00,  3.3165e-01,\n",
       "           -1.0001e+00, -6.9195e-01, -4.7199e-01]]]], device='cuda:0')"
      ]
     },
     "execution_count": 72,
     "metadata": {},
     "output_type": "execute_result"
    }
   ],
   "source": [
    "rand_img_tensor"
   ]
  },
  {
   "cell_type": "code",
   "execution_count": 73,
   "id": "0de947ff-d0d8-4b29-a5ae-a958f62252c4",
   "metadata": {},
   "outputs": [],
   "source": [
    "from helper_functions import accuracy_fn\n",
    "from timeit import default_timer as timer"
   ]
  },
  {
   "cell_type": "code",
   "execution_count": 74,
   "id": "dad140a1-d6e2-42bf-9abe-b5a6410f8776",
   "metadata": {},
   "outputs": [
    {
     "name": "stderr",
     "output_type": "stream",
     "text": [
      " 20%|██        | 1/5 [00:42<02:49, 42.27s/it]"
     ]
    },
    {
     "name": "stdout",
     "output_type": "stream",
     "text": [
      "Epoch 1/5: Train loss: 1.0725 | Train acc: 69.9283 | Test loss: 1.1194 | Test acc: 65.0060\n"
     ]
    },
    {
     "name": "stderr",
     "output_type": "stream",
     "text": [
      " 40%|████      | 2/5 [01:23<02:04, 41.39s/it]"
     ]
    },
    {
     "name": "stdout",
     "output_type": "stream",
     "text": [
      "Epoch 2/5: Train loss: 1.2230 | Train acc: 60.2267 | Test loss: 1.2700 | Test acc: 56.3598\n"
     ]
    },
    {
     "name": "stderr",
     "output_type": "stream",
     "text": [
      " 60%|██████    | 3/5 [02:02<01:21, 40.70s/it]"
     ]
    },
    {
     "name": "stdout",
     "output_type": "stream",
     "text": [
      "Epoch 3/5: Train loss: 1.3210 | Train acc: 55.7600 | Test loss: 1.3612 | Test acc: 50.9085\n"
     ]
    },
    {
     "name": "stderr",
     "output_type": "stream",
     "text": [
      " 80%|████████  | 4/5 [02:43<00:40, 40.54s/it]"
     ]
    },
    {
     "name": "stdout",
     "output_type": "stream",
     "text": [
      "Epoch 4/5: Train loss: 1.4303 | Train acc: 52.3400 | Test loss: 1.3231 | Test acc: 55.0519\n"
     ]
    },
    {
     "name": "stderr",
     "output_type": "stream",
     "text": [
      "100%|██████████| 5/5 [03:22<00:00, 40.59s/it]"
     ]
    },
    {
     "name": "stdout",
     "output_type": "stream",
     "text": [
      "Epoch 5/5: Train loss: 1.3913 | Train acc: 53.4483 | Test loss: 1.7833 | Test acc: 50.3395\n",
      "Total time taken: 202.94156700000167 seconds\n"
     ]
    },
    {
     "name": "stderr",
     "output_type": "stream",
     "text": [
      "\n"
     ]
    }
   ],
   "source": [
    "from tqdm.auto import tqdm\n",
    "\n",
    "# Set the seed and start the timer\n",
    "torch.manual_seed(42)\n",
    "train_time_start_on_cpu = timer()\n",
    "\n",
    "# Model training\n",
    "for epoch in tqdm(range(epochs)):\n",
    "    model.train()\n",
    "    train_loss = 0\n",
    "    train_acc = 0\n",
    "\n",
    "    for batch in train_dataloader:\n",
    "        X, y = batch\n",
    "        X = X.to(device)\n",
    "        y = y.to(device)\n",
    "\n",
    "        # Forward pass\n",
    "        y_pred = model(X)\n",
    "\n",
    "        # Calculate loss\n",
    "        loss = loss_fn(y_pred, y)\n",
    "        train_loss += loss\n",
    "        train_acc += accuracy_fn(y_true=y, y_pred=y_pred.argmax(dim=1))\n",
    "\n",
    "        # Backprop\n",
    "        optimizer.zero_grad()\n",
    "        loss.backward()\n",
    "        optimizer.step()\n",
    "\n",
    "    # Divide total train loss by length of train dataloader\n",
    "    train_loss /= len(train_dataloader)\n",
    "    train_acc /= len(train_dataloader)\n",
    "\n",
    "    ### Testing\n",
    "    model.eval()\n",
    "    test_loss = 0\n",
    "    test_acc = 0\n",
    "    \n",
    "    with torch.inference_mode():\n",
    "        for batch in test_dataloader:\n",
    "            X, y = batch\n",
    "            X = X.to(device)\n",
    "            y = y.to(device)\n",
    "    \n",
    "            y_test_pred = model(X)\n",
    "            loss = loss_fn(y_test_pred, y)\n",
    "            test_loss += loss.item()\n",
    "            test_acc += accuracy_fn(y_true=y, y_pred=y_test_pred.argmax(dim=1))\n",
    "    \n",
    "    test_loss = test_loss / len(test_dataloader)\n",
    "    test_acc = test_acc / len(test_dataloader)\n",
    "\n",
    "    print(f\"Epoch {epoch+1}/{epochs}: Train loss: {train_loss:.4f} | Train acc: {train_acc:.4f} | Test loss: {test_loss:.4f} | Test acc: {test_acc:.4f}\")\n",
    "\n",
    "train_time_end_on_cpu = timer()\n",
    "total_time = train_time_end_on_cpu - train_time_start_on_cpu\n",
    "print(f\"Total time taken: {total_time} seconds\")"
   ]
  },
  {
   "cell_type": "code",
   "execution_count": null,
   "id": "2a4198c9-4f7e-496a-aded-b6c1c63dd675",
   "metadata": {},
   "outputs": [],
   "source": []
  },
  {
   "cell_type": "markdown",
   "id": "53c3469b-c733-4447-a362-567b7f71d695",
   "metadata": {},
   "source": [
    "## Now using CNN model"
   ]
  },
  {
   "cell_type": "code",
   "execution_count": 103,
   "id": "d2154fea-57ec-4e6d-85a7-0a1bedd49cd5",
   "metadata": {},
   "outputs": [],
   "source": [
    "class MNISTModel2 (nn.Module):\n",
    "    def __init__(self,\n",
    "                 in_channels:int,\n",
    "                 hidden_units:int,\n",
    "                 num_classes:int):\n",
    "        super().__init__()\n",
    "        self.conv2d_layer_stack = nn.Sequential(\n",
    "            nn.Conv2d(in_channels=in_channels, out_channels=hidden_units, kernel_size=3, stride=1),\n",
    "            nn.ReLU(),\n",
    "            nn.Conv2d(in_channels=hidden_units, out_channels=num_classes, kernel_size=3, stride=1)\n",
    "        )\n",
    "\n",
    "        self.classifier = nn.Sequential(\n",
    "            nn.Flatten(),\n",
    "            nn.Linear(in_features=hidden_units*24*24, out_features=hidden_units),\n",
    "            nn.ReLU(),\n",
    "            nn.Linear(in_features=hidden_units, out_features=num_classes)\n",
    "        )\n",
    "\n",
    "    def forward(self, x):\n",
    "        x = self.conv2d_layer_stack(x)\n",
    "        x = self.classifier(x)\n",
    "        return x\n",
    "    "
   ]
  },
  {
   "cell_type": "code",
   "execution_count": 104,
   "id": "82bff573-6804-4b49-88dc-d50b312f5b66",
   "metadata": {},
   "outputs": [],
   "source": [
    "model_2 = MNISTModel2(1, 10, 10)"
   ]
  },
  {
   "cell_type": "code",
   "execution_count": 105,
   "id": "9995c5cb-944d-4fd8-9a53-22b615d76a9c",
   "metadata": {},
   "outputs": [
    {
     "data": {
      "text/plain": [
       "torch.Size([32, 1, 28, 28])"
      ]
     },
     "execution_count": 105,
     "metadata": {},
     "output_type": "execute_result"
    }
   ],
   "source": [
    "img, label = next(iter(train_dataloader))\n",
    "img.shape"
   ]
  },
  {
   "cell_type": "code",
   "execution_count": 115,
   "id": "76d08bc4-05f4-4d44-bacd-31d052616b26",
   "metadata": {},
   "outputs": [
    {
     "data": {
      "text/plain": [
       "MNISTModel2(\n",
       "  (conv2d_layer_stack): Sequential(\n",
       "    (0): Conv2d(1, 10, kernel_size=(3, 3), stride=(1, 1))\n",
       "    (1): ReLU()\n",
       "    (2): Conv2d(10, 10, kernel_size=(3, 3), stride=(1, 1))\n",
       "  )\n",
       "  (classifier): Sequential(\n",
       "    (0): Flatten(start_dim=1, end_dim=-1)\n",
       "    (1): Linear(in_features=5760, out_features=10, bias=True)\n",
       "    (2): ReLU()\n",
       "    (3): Linear(in_features=10, out_features=10, bias=True)\n",
       "  )\n",
       ")"
      ]
     },
     "execution_count": 115,
     "metadata": {},
     "output_type": "execute_result"
    }
   ],
   "source": [
    "model_2.to(device)"
   ]
  },
  {
   "cell_type": "code",
   "execution_count": 116,
   "id": "f19b9641-23bf-4457-a3ec-6717564d90f8",
   "metadata": {},
   "outputs": [],
   "source": [
    "epochs = 5\n",
    "learning_rate = 0.001"
   ]
  },
  {
   "cell_type": "code",
   "execution_count": 117,
   "id": "e92a3fd8-a49a-49b9-b577-b854b1a445b0",
   "metadata": {},
   "outputs": [],
   "source": [
    "loss_fn = nn.CrossEntropyLoss()\n",
    "\n",
    "optimizer = torch.optim.Adam(params=model_2.parameters(),\n",
    "                             lr=learning_rate)"
   ]
  },
  {
   "cell_type": "code",
   "execution_count": 119,
   "id": "80093392-a20e-42c3-aa34-949da49e4af4",
   "metadata": {},
   "outputs": [
    {
     "name": "stderr",
     "output_type": "stream",
     "text": [
      " 20%|██        | 1/5 [00:26<01:46, 26.66s/it]"
     ]
    },
    {
     "name": "stdout",
     "output_type": "stream",
     "text": [
      "Epoch: 1 | Train_loss: 0.0743 | Train_acc: 97.71% | Test_loss: 0.0795 | Test_acc: 97.64%\n"
     ]
    },
    {
     "name": "stderr",
     "output_type": "stream",
     "text": [
      " 40%|████      | 2/5 [00:51<01:17, 25.73s/it]"
     ]
    },
    {
     "name": "stdout",
     "output_type": "stream",
     "text": [
      "Epoch: 2 | Train_loss: 0.0648 | Train_acc: 98.03% | Test_loss: 0.0785 | Test_acc: 97.49%\n"
     ]
    },
    {
     "name": "stderr",
     "output_type": "stream",
     "text": [
      " 60%|██████    | 3/5 [01:16<00:50, 25.48s/it]"
     ]
    },
    {
     "name": "stdout",
     "output_type": "stream",
     "text": [
      "Epoch: 3 | Train_loss: 0.0586 | Train_acc: 98.22% | Test_loss: 0.0674 | Test_acc: 98.05%\n"
     ]
    },
    {
     "name": "stderr",
     "output_type": "stream",
     "text": [
      " 80%|████████  | 4/5 [01:42<00:25, 25.64s/it]"
     ]
    },
    {
     "name": "stdout",
     "output_type": "stream",
     "text": [
      "Epoch: 4 | Train_loss: 0.0528 | Train_acc: 98.40% | Test_loss: 0.0695 | Test_acc: 98.01%\n"
     ]
    },
    {
     "name": "stderr",
     "output_type": "stream",
     "text": [
      "100%|██████████| 5/5 [02:09<00:00, 25.85s/it]"
     ]
    },
    {
     "name": "stdout",
     "output_type": "stream",
     "text": [
      "Epoch: 5 | Train_loss: 0.0478 | Train_acc: 98.52% | Test_loss: 0.0634 | Test_acc: 98.15%\n",
      "Total time taken: 129.27 seconds\n"
     ]
    },
    {
     "name": "stderr",
     "output_type": "stream",
     "text": [
      "\n"
     ]
    }
   ],
   "source": [
    "# ## Training\n",
    "# from tqdm.auto import tqdm\n",
    "\n",
    "# torch.manual_seed(42)\n",
    "# train_time_start_on_cpu = timer()\n",
    "\n",
    "# for epoch in tqdm(range(epochs)):\n",
    "#     model_2.train()\n",
    "#     train_loss = 0\n",
    "#     train_acc = 0\n",
    "\n",
    "#     for batch in train_dataloader:\n",
    "\n",
    "#         X, y = batch\n",
    "\n",
    "#         ## 1. Forward pass\n",
    "#         y_pred = model_2(X)\n",
    "\n",
    "#         ## 2. calculate the loss\n",
    "#         loss = loss_fn(y_pred, y)\n",
    "#         train_loss+=loss.item()\n",
    "\n",
    "#         y_pred_prob = y_pred.argmax(dim=1)\n",
    "#         train_acc = accuracy_fn(y, y_pred_prob)\n",
    "\n",
    "\n",
    "#         ## 3. optimizer zero grad\n",
    "#         optimizer.zero_grad()\n",
    "\n",
    "#         ## 4. backpropagation\n",
    "#         loss.backward()\n",
    "\n",
    "#         ## 5. optimizer step\n",
    "#         optimizer.step()\n",
    "\n",
    "#     train_loss = train_loss/len(train_dataloader)\n",
    "#     train_acc = train_acc/len(train_dataloader)\n",
    "\n",
    "#     ## Testing\n",
    "#     model_2.eval()\n",
    "#     test_loss = 0\n",
    "#     test_acc = 0\n",
    "    \n",
    "#     with torch.inference_mode():\n",
    "    \n",
    "#         for batch in test_dataloader:\n",
    "#             X, y = batch\n",
    "    \n",
    "#             ## 1. forward pass\n",
    "#             y_test_pred = model_2(X)\n",
    "    \n",
    "#             ## 2. Calculate the loss\n",
    "#             y_test_loss = loss_fn(y_test_pred, y)\n",
    "#             test_loss+=y_test_loss.item()\n",
    "    \n",
    "#             y_test_pred_prob = y_test_pred.argmax(dim=1)\n",
    "#             test_acc = accuracy_fn(y, y_test_pred_prob)\n",
    "            \n",
    "#     test_loss = test_loss/len(test_dataloader)\n",
    "#     test_acc = test_acc/len(test_dataloader)\n",
    "            \n",
    "#         ## Print out what's happening\n",
    "#     print(f\"Epoch: {epoch+1} | Train_loss: {train_loss:.4f} | Train_acc:{train_acc:.3f} | Test_loss: {test_loss:.4f} | Test_acc: {test_acc:.3f}\")\n",
    "# train_time_end_on_cpu = timer()\n",
    "# total_time = train_time_end_on_cpu - train_time_start_on_cpu\n",
    "# print(f\"Total time taken: {total_time:.3f} seconds\")\n",
    "\n",
    "from tqdm.auto import tqdm\n",
    "\n",
    "torch.manual_seed(42)\n",
    "train_time_start_on_cpu = timer()\n",
    "\n",
    "for epoch in tqdm(range(epochs)):\n",
    "    model_2.train()\n",
    "    train_loss = 0\n",
    "    num_train_correct = 0\n",
    "    num_train_samples = 0\n",
    "\n",
    "    # Training Loop\n",
    "    for batch in train_dataloader:\n",
    "        X, y = batch\n",
    "        X = X.to(device)\n",
    "        y=y.to(device)\n",
    "\n",
    "        # Forward pass\n",
    "        y_pred = model_2(X)\n",
    "\n",
    "        # Calculate loss\n",
    "        loss = loss_fn(y_pred, y)\n",
    "        train_loss += loss.item()\n",
    "\n",
    "        # Accuracy calculation\n",
    "        y_pred_class = y_pred.argmax(dim=1)\n",
    "        num_train_correct += (y_pred_class == y).sum().item()\n",
    "        num_train_samples += y.size(0)\n",
    "\n",
    "        # Backprop\n",
    "        optimizer.zero_grad()\n",
    "        loss.backward()\n",
    "        optimizer.step()\n",
    "\n",
    "    # Average loss and accuracy for training\n",
    "    train_loss = train_loss / len(train_dataloader)\n",
    "    train_acc = num_train_correct / num_train_samples * 100\n",
    "\n",
    "    # Evaluation Loop\n",
    "    model_2.eval()\n",
    "    test_loss = 0\n",
    "    num_test_correct = 0\n",
    "    num_test_samples = 0\n",
    "\n",
    "    with torch.inference_mode():\n",
    "        for batch in test_dataloader:\n",
    "            X, y = batch\n",
    "            X = X.to(device)\n",
    "            y = y.to(device)\n",
    "\n",
    "            # Forward pass\n",
    "            y_test_pred = model_2(X)\n",
    "\n",
    "            # Calculate loss\n",
    "            loss = loss_fn(y_test_pred, y)\n",
    "            test_loss += loss.item()\n",
    "\n",
    "            # Accuracy calculation\n",
    "            y_test_pred_class = y_test_pred.argmax(dim=1)\n",
    "            num_test_correct += (y_test_pred_class == y).sum().item()\n",
    "            num_test_samples += y.size(0)\n",
    "\n",
    "    # Average loss and accuracy for testing\n",
    "    test_loss = test_loss / len(test_dataloader)\n",
    "    test_acc = num_test_correct / num_test_samples * 100\n",
    "\n",
    "    # Print epoch results\n",
    "    print(\n",
    "        f\"Epoch: {epoch+1} | \"\n",
    "        f\"Train_loss: {train_loss:.4f} | Train_acc: {train_acc:.2f}% | \"\n",
    "        f\"Test_loss: {test_loss:.4f} | Test_acc: {test_acc:.2f}%\"\n",
    "    )\n",
    "\n",
    "train_time_end_on_cpu = timer()\n",
    "total_time = train_time_end_on_cpu - train_time_start_on_cpu\n",
    "print(f\"Total time taken: {total_time:.2f} seconds\")\n"
   ]
  },
  {
   "cell_type": "code",
   "execution_count": null,
   "id": "56b9d5ff-bb55-4aec-8759-4b49fb0c0d14",
   "metadata": {},
   "outputs": [],
   "source": []
  },
  {
   "cell_type": "code",
   "execution_count": 120,
   "id": "5f24db56-eae7-41ba-bd25-889af122924e",
   "metadata": {},
   "outputs": [],
   "source": [
    "## Evaluate random prediction with the model\n",
    "\n",
    "def make_predictions (model: torch.nn.Module,\n",
    "                      data: list,\n",
    "                      device: torch.device = device):\n",
    "    pred_probs = []\n",
    "    model.eval()\n",
    "    model.to(device)\n",
    "    with torch.inference_mode():\n",
    "\n",
    "        for sample in data:\n",
    "            # Prepare the same (add a batch dimension and pass it to the target device)\n",
    "            sample = torch.unsqueeze(sample, dim=0).to(device)\n",
    "\n",
    "            # Forward pass (model outputs raw logits)\n",
    "            pred_logit = model(sample)\n",
    "\n",
    "            # Get prediction probabilities (logits -> prediction probabilities)\n",
    "            pred_prob = torch.softmax(pred_logit.squeeze(), dim=0)\n",
    "\n",
    "            # Get the pred prob OFF the GPU for further calculations\n",
    "            pred_probs.append(pred_prob.cpu())\n",
    "\n",
    "    return torch.stack(pred_probs)"
   ]
  },
  {
   "cell_type": "code",
   "execution_count": 122,
   "id": "50a98f42-8e26-4284-b67b-91bce414d168",
   "metadata": {},
   "outputs": [],
   "source": [
    "import random"
   ]
  },
  {
   "cell_type": "code",
   "execution_count": 137,
   "id": "81d776d3-428a-4dc7-8892-7cf17882aedb",
   "metadata": {},
   "outputs": [
    {
     "data": {
      "text/plain": [
       "Dataset MNIST\n",
       "    Number of datapoints: 10000\n",
       "    Root location: test_data\n",
       "    Split: Test\n",
       "    StandardTransform\n",
       "Transform: ToTensor()"
      ]
     },
     "execution_count": 137,
     "metadata": {},
     "output_type": "execute_result"
    }
   ],
   "source": [
    "test_data"
   ]
  },
  {
   "cell_type": "code",
   "execution_count": 184,
   "id": "e0a5c2bf-5c7f-4096-b745-5f7356701b97",
   "metadata": {},
   "outputs": [
    {
     "data": {
      "text/plain": [
       "torch.Size([1, 28, 28])"
      ]
     },
     "execution_count": 184,
     "metadata": {},
     "output_type": "execute_result"
    }
   ],
   "source": [
    "import random\n",
    "# random.seed(42)\n",
    "test_samples = []\n",
    "test_labels = []\n",
    "for sample, label in random.sample(list(test_data), k=9):\n",
    "    test_samples.append(sample)\n",
    "    test_labels.append(label)\n",
    "\n",
    "test_samples[0].shape"
   ]
  },
  {
   "cell_type": "code",
   "execution_count": 185,
   "id": "2c351ace-9d45-4244-9763-468497144156",
   "metadata": {},
   "outputs": [
    {
     "data": {
      "image/png": "[encoded data removed]",
      "text/plain": [
       "<Figure size 640x480 with 1 Axes>"
      ]
     },
     "metadata": {},
     "output_type": "display_data"
    }
   ],
   "source": [
    "plt.imshow(test_samples[0].squeeze(), cmap=\"gray\")\n",
    "plt.title(f\"Label : {test_labels[0]}\")\n",
    "plt.show()"
   ]
  },
  {
   "cell_type": "code",
   "execution_count": 186,
   "id": "a8f2f01a-8ce1-4bc9-bbb3-65bd3d0240a0",
   "metadata": {},
   "outputs": [
    {
     "data": {
      "text/plain": [
       "tensor([[4.6259e-11, 7.2150e-09, 1.1812e-07, 9.9994e-01, 1.5572e-11, 3.8267e-05,\n",
       "         2.0706e-08, 2.5155e-08, 5.7638e-07, 1.7247e-05],\n",
       "        [3.2224e-23, 2.2499e-15, 5.1256e-16, 9.9999e-01, 9.0193e-19, 6.1736e-06,\n",
       "         8.1216e-18, 8.0280e-14, 1.2050e-09, 4.4975e-07]])"
      ]
     },
     "execution_count": 186,
     "metadata": {},
     "output_type": "execute_result"
    }
   ],
   "source": [
    "# Make prediction\n",
    "pred_probs = make_predictions(model=model_2,\n",
    "                              data=test_samples)\n",
    "\n",
    "# View first 2 prediction probabilities\n",
    "pred_probs[:2]"
   ]
  },
  {
   "cell_type": "code",
   "execution_count": 187,
   "id": "c813aed9-733d-446e-baec-328dc00c8b2d",
   "metadata": {},
   "outputs": [
    {
     "data": {
      "text/plain": [
       "tensor([3, 3, 0, 3, 7, 4, 3, 0, 3])"
      ]
     },
     "execution_count": 187,
     "metadata": {},
     "output_type": "execute_result"
    }
   ],
   "source": [
    "# convert prediction probabilities to labels\n",
    "pred_classes = pred_probs.argmax(dim=1)\n",
    "pred_classes"
   ]
  },
  {
   "cell_type": "code",
   "execution_count": 188,
   "id": "73286d72-40f1-477f-9b1d-a7ad3d3cdbf1",
   "metadata": {},
   "outputs": [
    {
     "data": {
      "text/plain": [
       "[3, 3, 0, 3, 7, 4, 3, 0, 3]"
      ]
     },
     "execution_count": 188,
     "metadata": {},
     "output_type": "execute_result"
    }
   ],
   "source": [
    "test_labels"
   ]
  },
  {
   "cell_type": "code",
   "execution_count": 189,
   "id": "d2738650-e7f6-46f3-a664-33e3890f4689",
   "metadata": {},
   "outputs": [
    {
     "data": {
      "image/png": "[encoded data removed]",
      "text/plain": [
       "<Figure size 1000x500 with 9 Axes>"
      ]
     },
     "metadata": {},
     "output_type": "display_data"
    }
   ],
   "source": [
    "# Plot prediction\n",
    "\n",
    "fig, axes = plt.subplots(nrows=3, ncols=3, figsize=(10,5))\n",
    "\n",
    "for i, ax in enumerate(axes.flat):\n",
    "    img = test_samples[i]\n",
    "\n",
    "    ax.imshow(img.squeeze(), cmap=\"gray\")\n",
    "\n",
    "    prediction_labels = pred_classes[i].item()\n",
    "\n",
    "    testing_labels = test_labels[i]\n",
    "\n",
    "    if prediction_labels == testing_labels:\n",
    "        ax.set_title(f\"Pred label: {prediction_labels} | Actual label: {testing_labels}\", color='green')\n",
    "    else:\n",
    "        ax.set_title(f\"Pred label: {prediction_labels} | Actual label: {testing_labels}\", color='red')\n",
    "\n",
    "    ax.axis(\"off\")\n",
    "\n",
    "plt.show()"
   ]
  },
  {
   "cell_type": "code",
   "execution_count": 191,
   "id": "6db09abc-2c63-47df-83a8-845a396571b6",
   "metadata": {},
   "outputs": [
    {
     "name": "stderr",
     "output_type": "stream",
     "text": [
      "Making predictions...: 100%|██████████| 313/313 [00:00<00:00, 333.37it/s]\n"
     ]
    },
    {
     "data": {
      "text/plain": [
       "tensor([7, 2, 1,  ..., 4, 5, 6])"
      ]
     },
     "execution_count": 191,
     "metadata": {},
     "output_type": "execute_result"
    }
   ],
   "source": [
    "# import tqdm.auto\n",
    "from tqdm.auto import tqdm\n",
    "\n",
    "#1. Make prediction with trained model\n",
    "y_preds = []\n",
    "model_2.eval()\n",
    "with torch.inference_mode():\n",
    "    for X, y in tqdm(test_dataloader, desc=\"Making predictions...\"):\n",
    "        # Send the data and targets to target device\n",
    "        X, y = X.to(device), y.to(device)\n",
    "\n",
    "        # Do the forward pass\n",
    "        y_logit = model_2(X)\n",
    "\n",
    "        # Turn predictions from logits -> prediction probabilities -> prediction labels\n",
    "        y_pred = torch.softmax(y_logit.squeeze(), dim=0).argmax(dim=1)\n",
    "\n",
    "        # Put prediction on CPU for evaluation\n",
    "        y_preds.append(y_pred.cpu())\n",
    "\n",
    "# Concatenate list of predictions into a tensor\n",
    "# print(y_preds)\n",
    "y_pred_tensor = torch.cat(y_preds)\n",
    "y_pred_tensor"
   ]
  },
  {
   "cell_type": "code",
   "execution_count": 192,
   "id": "ece5b205-ed45-45d7-a14c-635f6caa5ee5",
   "metadata": {},
   "outputs": [
    {
     "data": {
      "text/plain": [
       "10000"
      ]
     },
     "execution_count": 192,
     "metadata": {},
     "output_type": "execute_result"
    }
   ],
   "source": [
    "len(y_pred_tensor)"
   ]
  },
  {
   "cell_type": "code",
   "execution_count": 205,
   "id": "164c841d-5a40-481e-b4be-7481455bdd1b",
   "metadata": {},
   "outputs": [
    {
     "data": {
      "text/plain": [
       "10"
      ]
     },
     "execution_count": 205,
     "metadata": {},
     "output_type": "execute_result"
    }
   ],
   "source": [
    "class_names = test_data.classes\n",
    "len(class_names)"
   ]
  },
  {
   "cell_type": "code",
   "execution_count": 200,
   "id": "4b5d05ce-8cd1-44e2-8d9f-ef9082cba7c3",
   "metadata": {},
   "outputs": [],
   "source": [
    "import torchmetrics, mlxtend"
   ]
  },
  {
   "cell_type": "code",
   "execution_count": 201,
   "id": "8494b23a-dba4-496f-899e-e84dcd08fdf3",
   "metadata": {},
   "outputs": [
    {
     "data": {
      "text/plain": [
       "'0.23.4'"
      ]
     },
     "execution_count": 201,
     "metadata": {},
     "output_type": "execute_result"
    }
   ],
   "source": [
    "mlxtend.__version__"
   ]
  },
  {
   "cell_type": "code",
   "execution_count": 207,
   "id": "56b7a494-baa2-4f47-a645-735ee0f76a73",
   "metadata": {},
   "outputs": [
    {
     "data": {
      "image/png": "[encoded data removed]",
      "text/plain": [
       "<Figure size 1000x700 with 1 Axes>"
      ]
     },
     "metadata": {},
     "output_type": "display_data"
    }
   ],
   "source": [
    "from torchmetrics import ConfusionMatrix\n",
    "from mlxtend.plotting import plot_confusion_matrix\n",
    "\n",
    "# 2. Setup confusion instance and compare predictions to targets\n",
    "confmat = ConfusionMatrix(task='multiclass',num_classes=len(class_names))\n",
    "confmat_tensor = confmat(preds=y_pred_tensor,\n",
    "                         target=test_data.targets)\n",
    "\n",
    "# 3. Plot the confusion matrix\n",
    "fig, ax = plot_confusion_matrix(\n",
    "    conf_mat=confmat_tensor.numpy(), # matplotlib likes working with numpy\n",
    "    class_names=class_names,\n",
    "    figsize=(10,7)\n",
    ")"
   ]
  },
  {
   "cell_type": "code",
   "execution_count": 208,
   "id": "a3c88777-a1ea-448d-b217-dcac0a794113",
   "metadata": {},
   "outputs": [
    {
     "name": "stdout",
     "output_type": "stream",
     "text": [
      "Saving model to: models\\pytorch_1st_project_MNIST_digit_classifier.pth\n"
     ]
    }
   ],
   "source": [
    "from pathlib import Path\n",
    "\n",
    "# Create model directory path\n",
    "MODEL_PATH = Path('models')\n",
    "MODEL_PATH.mkdir(parents=True, exist_ok=True)\n",
    "\n",
    "# Create model save\n",
    "MODEL_NAME = \"pytorch_1st_project_MNIST_digit_classifier.pth\"\n",
    "MODEL_SAVE_PATH = MODEL_PATH / MODEL_NAME\n",
    "\n",
    "# Save the model state dict\n",
    "print(f\"Saving model to: {MODEL_SAVE_PATH}\")\n",
    "torch.save(obj=model_2.state_dict(),\n",
    "           f=MODEL_SAVE_PATH)"
   ]
  },
  {
   "cell_type": "code",
   "execution_count": null,
   "id": "e2c5cbb6-b130-4b65-a873-cad2e55b4e10",
   "metadata": {},
   "outputs": [],
   "source": []
  },
  {
   "cell_type": "code",
   "execution_count": 209,
   "id": "4b7a087f-1306-4b40-b8bc-a00e6e3427d1",
   "metadata": {},
   "outputs": [
    {
     "name": "stderr",
     "output_type": "stream",
     "text": [
      "C:\\Users\\Deepam Shah\\AppData\\Local\\Temp\\ipykernel_35564\\2649272145.py:9: FutureWarning: You are using `torch.load` with `weights_only=False` (the current default value), which uses the default pickle module implicitly. It is possible to construct malicious pickle data which will execute arbitrary code during unpickling (See https://github.com/pytorch/pytorch/blob/main/SECURITY.md#untrusted-models for more details). In a future release, the default value for `weights_only` will be flipped to `True`. This limits the functions that could be executed during unpickling. Arbitrary objects will no longer be allowed to be loaded via this mode unless they are explicitly allowlisted by the user via `torch.serialization.add_safe_globals`. We recommend you start setting `weights_only=True` for any use case where you don't have full control of the loaded file. Please open an issue on GitHub for any issues related to this experimental feature.\n",
      "  loaded_model_2.load_state_dict(torch.load(f=MODEL_SAVE_PATH))\n"
     ]
    },
    {
     "data": {
      "text/plain": [
       "MNISTModel2(\n",
       "  (conv2d_layer_stack): Sequential(\n",
       "    (0): Conv2d(1, 10, kernel_size=(3, 3), stride=(1, 1))\n",
       "    (1): ReLU()\n",
       "    (2): Conv2d(10, 10, kernel_size=(3, 3), stride=(1, 1))\n",
       "  )\n",
       "  (classifier): Sequential(\n",
       "    (0): Flatten(start_dim=1, end_dim=-1)\n",
       "    (1): Linear(in_features=5760, out_features=10, bias=True)\n",
       "    (2): ReLU()\n",
       "    (3): Linear(in_features=10, out_features=10, bias=True)\n",
       "  )\n",
       ")"
      ]
     },
     "execution_count": 209,
     "metadata": {},
     "output_type": "execute_result"
    }
   ],
   "source": [
    "# Create a new instance\n",
    "torch.manual_seed(42)\n",
    "\n",
    "loaded_model_2 = MNISTModel2(in_channels=1,\n",
    "                             hidden_units=10,\n",
    "                             num_classes=len(class_names))\n",
    "\n",
    "# Load in the save state_dict()\n",
    "loaded_model_2.load_state_dict(torch.load(f=MODEL_SAVE_PATH))\n",
    "\n",
    "# Sned the model to the target device\n",
    "loaded_model_2.to(device)"
   ]
  }
 ],
 "metadata": {
  "kernelspec": {
   "display_name": "Python 3 (ipykernel)",
   "language": "python",
   "name": "python3"
  },
  "language_info": {
   "codemirror_mode": {
    "name": "ipython",
    "version": 3
   },
   "file_extension": ".py",
   "mimetype": "text/x-python",
   "name": "python",
   "nbconvert_exporter": "python",
   "pygments_lexer": "ipython3",
   "version": "3.12.8"
  }
 },
 "nbformat": 4,
 "nbformat_minor": 5
}
